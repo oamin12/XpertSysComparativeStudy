{
 "cells": [
  {
   "cell_type": "code",
   "execution_count": 1,
   "metadata": {},
   "outputs": [],
   "source": [
    "# !pip install experta"
   ]
  },
  {
   "cell_type": "code",
   "execution_count": 2,
   "metadata": {},
   "outputs": [],
   "source": [
    "import pandas as pd\n",
    "import pickle as pkl\n",
    "from sklearn.preprocessing import LabelEncoder\n",
    "from sklearn.tree import DecisionTreeClassifier\n",
    "from sklearn.preprocessing import MinMaxScaler\n",
    "from sklearn.model_selection import train_test_split\n",
    "from sklearn.metrics import accuracy_score\n",
    "import matplotlib.pyplot as plt\n",
    "from sklearn.tree import plot_tree\n",
    "import re\n",
    "from sklearn.tree import export_text"
   ]
  },
  {
   "cell_type": "code",
   "execution_count": null,
   "metadata": {},
   "outputs": [],
   "source": [
    "dataset = \"Fraud-Detection-Transactions-Dataset/synthetic_fraud_dataset.csv\"\n",
    "df = pd.read_csv('datasets/'+dataset)\n",
    "print(len(df))"
   ]
  },
  {
   "cell_type": "code",
   "execution_count": null,
   "metadata": {},
   "outputs": [],
   "source": [
    "target_col = 'Fraud_Label'\n",
    "print(df.shape)\n",
    "df.columns = df.columns.str.strip()\n",
    "#drop: Transaction_ID, User_ID\n",
    "df.drop(['Transaction_ID', 'User_ID'], axis=1, inplace=True)\n",
    "# Convert to datetime if not already\n",
    "df['Timestamp'] = pd.to_datetime(df['Timestamp'])\n",
    "\n",
    "# Extract hour\n",
    "df['Hour'] = df['Timestamp'].dt.hour\n",
    "\n",
    "# Drop original Timestamp column\n",
    "df = df.drop(columns=['Timestamp'])\n",
    "df.head()"
   ]
  },
  {
   "cell_type": "code",
   "execution_count": null,
   "metadata": {},
   "outputs": [],
   "source": [
    "df.info()"
   ]
  },
  {
   "cell_type": "code",
   "execution_count": null,
   "metadata": {},
   "outputs": [],
   "source": [
    "df.isnull().sum().sum()"
   ]
  },
  {
   "cell_type": "code",
   "execution_count": null,
   "metadata": {},
   "outputs": [],
   "source": [
    "print(f\"{target_col}: {df[target_col].value_counts()}\")\n",
    "\n",
    "for col in df.columns:\n",
    "    if df[col].dtype == 'object':\n",
    "        df[col] = pd.factorize(df[col])[0]\n",
    "        print(f\"Column '{col}' has {df[col].nunique()} unique values.\")\n",
    "\n",
    "class_names = ['Not Fraud', 'Fraud']\n",
    "# Define label mapping\n",
    "label_map = {0: \"Not Fraud\", 1: \"Fraud\"}"
   ]
  },
  {
   "cell_type": "code",
   "execution_count": 11,
   "metadata": {},
   "outputs": [],
   "source": [
    "# Normalize the data\n",
    "feature_cols = df.columns[df.columns != target_col]\n",
    "mx = MinMaxScaler()\n",
    "df[feature_cols] = mx.fit_transform(df[feature_cols])\n"
   ]
  },
  {
   "cell_type": "code",
   "execution_count": null,
   "metadata": {},
   "outputs": [],
   "source": [
    "X = df.drop(target_col, axis=1)\n",
    "y = df[target_col]\n",
    "\n",
    "# 80% training, 20% testing\n",
    "X_train, X_test, y_train, y_test = train_test_split(X, y, test_size=0.2, random_state=42, shuffle=True, stratify=y)\n",
    "\n",
    "clf = DecisionTreeClassifier(\n",
    "    criterion=\"entropy\",\n",
    "    max_depth=4,              # Try values: None, 3, 5, 10, etc.\n",
    "    min_samples_split=10,     # Prevent overfitting\n",
    "    min_samples_leaf=5,       # Minimum samples in a leaf\n",
    "    min_impurity_decrease=0.001,\n",
    "    # max_features=\"sqrt\",\n",
    "    random_state=42\n",
    ")\n",
    "clf.fit(X_train, y_train)\n",
    "\n",
    "y_pred = clf.predict(X_test)\n",
    "accuracy = accuracy_score(y_test, y_pred)\n",
    "\n",
    "\n",
    "depth = clf.get_depth()\n",
    "print(f\"Test Accuracy: {accuracy:.4f}\")\n",
    "print(f\"Tree Depth: {depth} | Number of Leaves: {clf.get_n_leaves()}\")"
   ]
  },
  {
   "cell_type": "code",
   "execution_count": null,
   "metadata": {},
   "outputs": [],
   "source": [
    "plt.figure(figsize=(40, 20), dpi=300)\n",
    "plot_tree(\n",
    "    clf,\n",
    "    feature_names=X.columns,\n",
    "    class_names=class_names,\n",
    "    filled=True,\n",
    "    rounded=True,\n",
    "    impurity=False,\n",
    "    label=\"root\"\n",
    ")\n",
    "plt.savefig(\"decision_tree_simple.png\", bbox_inches=\"tight\")\n",
    "# plt.close()\n"
   ]
  },
  {
   "cell_type": "code",
   "execution_count": 17,
   "metadata": {},
   "outputs": [],
   "source": [
    "tree_rules = export_text(clf, feature_names=list(X.columns), max_depth=depth+5, decimals=5)\n",
    "# print(rules)\n",
    "# Write rules to a file\n",
    "with open(\"fraud_rules.txt\", \"w\") as f:\n",
    "    f.write(tree_rules)"
   ]
  },
  {
   "cell_type": "code",
   "execution_count": null,
   "metadata": {},
   "outputs": [],
   "source": [
    "# Parse and convert\n",
    "rules = []\n",
    "rule_count = 0\n",
    "stack = []\n",
    "\n",
    "for line in tree_rules.split(\"\\n\"):\n",
    "    indent_level = line.count(\"|   \")\n",
    "    line = line.strip()\n",
    "\n",
    "    # Remove tree symbols\n",
    "    line = re.sub(r\"\\|--- \", \"\", line)\n",
    "    line = line.replace(\"|   \", \"\")\n",
    "\n",
    "    if line.startswith(\"class:\"):\n",
    "        class_val = int(float(line.split(\":\")[1].strip()))\n",
    "        class_label = label_map[class_val]\n",
    "        # Build final rule from stack\n",
    "        conditions = stack[:indent_level]\n",
    "        condition_str = \", \".join(conditions)\n",
    "        rule_code = f\"\"\"    @Rule(Fact({condition_str}))\n",
    "    def rule_{rule_count}(self):\n",
    "        # print(f\"Rule {rule_count}: Fraud Status: {class_label}\")\n",
    "        self.prediction = {0 if class_label == \"Not Fraud\" else 1}\\n\"\"\"\n",
    "        rules.append(rule_code)\n",
    "        rule_count += 1\n",
    "    elif \"<=\" in line or \">\" in line:\n",
    "        op = \"<=\" if \" <= \" in line else \">\"\n",
    "        feature, op_val = line.split(op)\n",
    "        val = float(op_val.strip())\n",
    "        stack = stack[:indent_level] + [f\"{feature.strip()}=P(lambda x: x {op} {val})\"]\n",
    "\n",
    "# Output rules\n",
    "print(\"\"\"from experta import *\\n\\nclass FraudExpert(KnowledgeEngine):\n",
    "    def __init__(self):\n",
    "        super().__init__()\n",
    "        self.prediction = None\\n\"\"\")\n",
    "for r in rules:\n",
    "    print(r)\n"
   ]
  },
  {
   "cell_type": "code",
   "execution_count": 22,
   "metadata": {},
   "outputs": [],
   "source": [
    "from experta import *\n",
    "\n",
    "class FraudExpert(KnowledgeEngine):\n",
    "    def __init__(self):\n",
    "        super().__init__()\n",
    "        self.prediction = None\n",
    "\n",
    "    @Rule(Fact(Failed_Transaction_Count_7d=P(lambda x: x <= 0.875), Risk_Score=P(lambda x: x <= 0.85004)))\n",
    "    def rule_0(self):\n",
    "        # print(f\"Rule 0: Fraud Status: Not Fraud\")\n",
    "        self.prediction = 0\n",
    "\n",
    "    @Rule(Fact(Failed_Transaction_Count_7d=P(lambda x: x <= 0.875), Risk_Score=P(lambda x: x > 0.85004)))\n",
    "    def rule_1(self):\n",
    "        # print(f\"Rule 1: Fraud Status: Fraud\")\n",
    "        self.prediction = 1\n",
    "\n",
    "    @Rule(Fact(Failed_Transaction_Count_7d=P(lambda x: x > 0.875)))\n",
    "    def rule_2(self):\n",
    "        # print(f\"Rule 2: Fraud Status: Fraud\")\n",
    "        self.prediction = 1"
   ]
  },
  {
   "cell_type": "code",
   "execution_count": null,
   "metadata": {},
   "outputs": [],
   "source": [
    "# Testing on one example\n",
    "\n",
    "user_input = {\n",
    "    \"Transaction_Amount\":              39.79,\n",
    "    \"Transaction_Type\":                0,\n",
    "    \"Account_Balance\":                 93213.17,\n",
    "    \"Device_Type\":                     2,\n",
    "    \"Location\":                        2,\n",
    "    \"Merchant_Category\":               1,\n",
    "    \"IP_Address_Flag\":                 0,\n",
    "    \"Previous_Fraudulent_Activity\":    0,\n",
    "    \"Daily_Transaction_Count\":         7,\n",
    "    \"Avg_Transaction_Amount_7d\":       437.63,\n",
    "    \"Failed_Transaction_Count_7d\":     3,\n",
    "    \"Card_Type\":                       0,\n",
    "    \"Card_Age\":                        65,\n",
    "    \"Transaction_Distance\":            883.17,\n",
    "    \"Authentication_Method\":           1,\n",
    "    \"Risk_Score\":                      0.8494,\n",
    "    \"Is_Weekend\":                      0,\n",
    "    \"Hour\":                            5\n",
    "}\n",
    "# Convert to DataFrame to transform\n",
    "input_df = pd.DataFrame([user_input])\n",
    "normalized_input = mx.transform(input_df)[0]  # 1D array\n",
    "normalized_fact = dict(zip(df.columns, normalized_input))\n",
    "\n",
    "\n",
    "# normalized_fact = {\n",
    "# \"Transaction_Amount\":              0.008594,\n",
    "# \"Transaction_Type\":                0.000000,\n",
    "# \"Account_Balance\":                 0.737284,\n",
    "# \"Device_Type\":                     0.500000,\n",
    "# \"Location\":                        0.500000,\n",
    "# \"Merchant_Category\":               0.250000,\n",
    "# \"IP_Address_Flag\":                 0.000000,\n",
    "# \"Previous_Fraudulent_Activity\":    0.000000,\n",
    "# \"Daily_Transaction_Count\":         1.000000,\n",
    "# \"Avg_Transaction_Amount_7d\":       0.220714,\n",
    "# \"Failed_Transaction_Count_7d\":     0.750000,\n",
    "# \"Card_Type\":                       0.000000,\n",
    "# \"Card_Age\":                        0.676471,\n",
    "# \"Transaction_Distance\":            0.839782,\n",
    "# \"Authentication_Method\":           0.333333,\n",
    "# \"Risk_Score\":                      0.642464,\n",
    "# \"Is_Weekend\":                      0.000000,\n",
    "# \"Hour\":                            0.217391\n",
    "# }\n",
    "\n",
    "engine = FraudExpert()\n",
    "engine.reset()\n",
    "engine.declare(Fact(**normalized_fact))\n",
    "engine.run()\n",
    "print(engine.prediction)\n"
   ]
  },
  {
   "cell_type": "code",
   "execution_count": null,
   "metadata": {},
   "outputs": [],
   "source": [
    "y_pred_rule = []\n",
    "\n",
    "for i, row in X_test.iterrows():\n",
    "    # Run inference using your rule engine\n",
    "    engine = FraudExpert()\n",
    "    engine.reset()\n",
    "    engine.declare(Fact(**row))\n",
    "    engine.run()\n",
    "    if engine.prediction is None:\n",
    "        print(\"No rule matched for:\", row)\n",
    "    # Append predicted label (assume it's stored in engine.prediction)\n",
    "    y_pred_rule.append(engine.prediction)\n",
    "\n",
    "y_pred_tree = clf.predict(X_test)\n",
    "# Compute accuracy\n",
    "print(f\"Accuracy on test set: {accuracy_score(y_test, y_pred_rule) * 100}%\")"
   ]
  }
 ],
 "metadata": {
  "kernelspec": {
   "display_name": "base",
   "language": "python",
   "name": "python3"
  },
  "language_info": {
   "codemirror_mode": {
    "name": "ipython",
    "version": 3
   },
   "file_extension": ".py",
   "mimetype": "text/x-python",
   "name": "python",
   "nbconvert_exporter": "python",
   "pygments_lexer": "ipython3",
   "version": "3.12.4"
  }
 },
 "nbformat": 4,
 "nbformat_minor": 2
}
