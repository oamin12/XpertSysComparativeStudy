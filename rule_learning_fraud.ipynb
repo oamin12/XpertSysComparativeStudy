{
 "cells": [
  {
   "cell_type": "code",
   "execution_count": 1,
   "metadata": {},
   "outputs": [],
   "source": [
    "# !pip install experta"
   ]
  },
  {
   "cell_type": "code",
   "execution_count": 2,
   "metadata": {},
   "outputs": [
    {
     "ename": "ModuleNotFoundError",
     "evalue": "No module named 'pandas'",
     "output_type": "error",
     "traceback": [
      "\u001b[1;31m---------------------------------------------------------------------------\u001b[0m",
      "\u001b[1;31mModuleNotFoundError\u001b[0m                       Traceback (most recent call last)",
      "Cell \u001b[1;32mIn[2], line 1\u001b[0m\n\u001b[1;32m----> 1\u001b[0m \u001b[38;5;28;01mimport\u001b[39;00m\u001b[38;5;250m \u001b[39m\u001b[38;5;21;01mpandas\u001b[39;00m\u001b[38;5;250m \u001b[39m\u001b[38;5;28;01mas\u001b[39;00m\u001b[38;5;250m \u001b[39m\u001b[38;5;21;01mpd\u001b[39;00m\n\u001b[0;32m      2\u001b[0m \u001b[38;5;28;01mimport\u001b[39;00m\u001b[38;5;250m \u001b[39m\u001b[38;5;21;01mpickle\u001b[39;00m\u001b[38;5;250m \u001b[39m\u001b[38;5;28;01mas\u001b[39;00m\u001b[38;5;250m \u001b[39m\u001b[38;5;21;01mpkl\u001b[39;00m\n\u001b[0;32m      3\u001b[0m \u001b[38;5;28;01mfrom\u001b[39;00m\u001b[38;5;250m \u001b[39m\u001b[38;5;21;01msklearn\u001b[39;00m\u001b[38;5;21;01m.\u001b[39;00m\u001b[38;5;21;01mpreprocessing\u001b[39;00m\u001b[38;5;250m \u001b[39m\u001b[38;5;28;01mimport\u001b[39;00m LabelEncoder\n",
      "\u001b[1;31mModuleNotFoundError\u001b[0m: No module named 'pandas'"
     ]
    }
   ],
   "source": [
    "import pandas as pd\n",
    "import pickle as pkl\n",
    "from sklearn.preprocessing import LabelEncoder\n",
    "from sklearn.tree import DecisionTreeClassifier\n",
    "from sklearn.preprocessing import MinMaxScaler\n",
    "from sklearn.model_selection import train_test_split\n",
    "from sklearn.metrics import accuracy_score\n",
    "import matplotlib.pyplot as plt\n",
    "from sklearn.tree import plot_tree\n",
    "import re\n",
    "from sklearn.tree import export_text"
   ]
  },
  {
   "cell_type": "code",
   "execution_count": null,
   "metadata": {},
   "outputs": [
    {
     "name": "stdout",
     "output_type": "stream",
     "text": [
      "50000\n"
     ]
    }
   ],
   "source": [
    "dataset = \"Fraud-Detection-Transactions-Dataset/synthetic_fraud_dataset.csv\"\n",
    "df = pd.read_csv('datasets/'+dataset)\n",
    "print(len(df))"
   ]
  },
  {
   "cell_type": "code",
   "execution_count": null,
   "metadata": {},
   "outputs": [
    {
     "name": "stdout",
     "output_type": "stream",
     "text": [
      "(50000, 21)\n"
     ]
    },
    {
     "data": {
      "text/html": [
       "<div>\n",
       "<style scoped>\n",
       "    .dataframe tbody tr th:only-of-type {\n",
       "        vertical-align: middle;\n",
       "    }\n",
       "\n",
       "    .dataframe tbody tr th {\n",
       "        vertical-align: top;\n",
       "    }\n",
       "\n",
       "    .dataframe thead th {\n",
       "        text-align: right;\n",
       "    }\n",
       "</style>\n",
       "<table border=\"1\" class=\"dataframe\">\n",
       "  <thead>\n",
       "    <tr style=\"text-align: right;\">\n",
       "      <th></th>\n",
       "      <th>Transaction_Amount</th>\n",
       "      <th>Transaction_Type</th>\n",
       "      <th>Account_Balance</th>\n",
       "      <th>Device_Type</th>\n",
       "      <th>Location</th>\n",
       "      <th>Merchant_Category</th>\n",
       "      <th>IP_Address_Flag</th>\n",
       "      <th>Previous_Fraudulent_Activity</th>\n",
       "      <th>Daily_Transaction_Count</th>\n",
       "      <th>Avg_Transaction_Amount_7d</th>\n",
       "      <th>Failed_Transaction_Count_7d</th>\n",
       "      <th>Card_Type</th>\n",
       "      <th>Card_Age</th>\n",
       "      <th>Transaction_Distance</th>\n",
       "      <th>Authentication_Method</th>\n",
       "      <th>Risk_Score</th>\n",
       "      <th>Is_Weekend</th>\n",
       "      <th>Fraud_Label</th>\n",
       "      <th>Hour</th>\n",
       "    </tr>\n",
       "  </thead>\n",
       "  <tbody>\n",
       "    <tr>\n",
       "      <th>0</th>\n",
       "      <td>39.79</td>\n",
       "      <td>POS</td>\n",
       "      <td>93213.17</td>\n",
       "      <td>Laptop</td>\n",
       "      <td>Sydney</td>\n",
       "      <td>Travel</td>\n",
       "      <td>0</td>\n",
       "      <td>0</td>\n",
       "      <td>7</td>\n",
       "      <td>437.63</td>\n",
       "      <td>3</td>\n",
       "      <td>Amex</td>\n",
       "      <td>65</td>\n",
       "      <td>883.17</td>\n",
       "      <td>Biometric</td>\n",
       "      <td>0.8494</td>\n",
       "      <td>0</td>\n",
       "      <td>0</td>\n",
       "      <td>19</td>\n",
       "    </tr>\n",
       "    <tr>\n",
       "      <th>1</th>\n",
       "      <td>1.19</td>\n",
       "      <td>Bank Transfer</td>\n",
       "      <td>75725.25</td>\n",
       "      <td>Mobile</td>\n",
       "      <td>New York</td>\n",
       "      <td>Clothing</td>\n",
       "      <td>0</td>\n",
       "      <td>0</td>\n",
       "      <td>13</td>\n",
       "      <td>478.76</td>\n",
       "      <td>4</td>\n",
       "      <td>Mastercard</td>\n",
       "      <td>186</td>\n",
       "      <td>2203.36</td>\n",
       "      <td>Password</td>\n",
       "      <td>0.0959</td>\n",
       "      <td>0</td>\n",
       "      <td>1</td>\n",
       "      <td>4</td>\n",
       "    </tr>\n",
       "    <tr>\n",
       "      <th>2</th>\n",
       "      <td>28.96</td>\n",
       "      <td>Online</td>\n",
       "      <td>1588.96</td>\n",
       "      <td>Tablet</td>\n",
       "      <td>Mumbai</td>\n",
       "      <td>Restaurants</td>\n",
       "      <td>0</td>\n",
       "      <td>0</td>\n",
       "      <td>14</td>\n",
       "      <td>50.01</td>\n",
       "      <td>4</td>\n",
       "      <td>Visa</td>\n",
       "      <td>226</td>\n",
       "      <td>1909.29</td>\n",
       "      <td>Biometric</td>\n",
       "      <td>0.8400</td>\n",
       "      <td>0</td>\n",
       "      <td>1</td>\n",
       "      <td>15</td>\n",
       "    </tr>\n",
       "    <tr>\n",
       "      <th>3</th>\n",
       "      <td>254.32</td>\n",
       "      <td>ATM Withdrawal</td>\n",
       "      <td>76807.20</td>\n",
       "      <td>Tablet</td>\n",
       "      <td>New York</td>\n",
       "      <td>Clothing</td>\n",
       "      <td>0</td>\n",
       "      <td>0</td>\n",
       "      <td>8</td>\n",
       "      <td>182.48</td>\n",
       "      <td>4</td>\n",
       "      <td>Visa</td>\n",
       "      <td>76</td>\n",
       "      <td>1311.86</td>\n",
       "      <td>OTP</td>\n",
       "      <td>0.7935</td>\n",
       "      <td>0</td>\n",
       "      <td>1</td>\n",
       "      <td>0</td>\n",
       "    </tr>\n",
       "    <tr>\n",
       "      <th>4</th>\n",
       "      <td>31.28</td>\n",
       "      <td>POS</td>\n",
       "      <td>92354.66</td>\n",
       "      <td>Mobile</td>\n",
       "      <td>Mumbai</td>\n",
       "      <td>Electronics</td>\n",
       "      <td>0</td>\n",
       "      <td>1</td>\n",
       "      <td>14</td>\n",
       "      <td>328.69</td>\n",
       "      <td>4</td>\n",
       "      <td>Mastercard</td>\n",
       "      <td>140</td>\n",
       "      <td>966.98</td>\n",
       "      <td>Password</td>\n",
       "      <td>0.3819</td>\n",
       "      <td>1</td>\n",
       "      <td>1</td>\n",
       "      <td>23</td>\n",
       "    </tr>\n",
       "  </tbody>\n",
       "</table>\n",
       "</div>"
      ],
      "text/plain": [
       "   Transaction_Amount Transaction_Type  Account_Balance Device_Type  Location  \\\n",
       "0               39.79              POS         93213.17      Laptop    Sydney   \n",
       "1                1.19    Bank Transfer         75725.25      Mobile  New York   \n",
       "2               28.96           Online          1588.96      Tablet    Mumbai   \n",
       "3              254.32   ATM Withdrawal         76807.20      Tablet  New York   \n",
       "4               31.28              POS         92354.66      Mobile    Mumbai   \n",
       "\n",
       "  Merchant_Category  IP_Address_Flag  Previous_Fraudulent_Activity  \\\n",
       "0            Travel                0                             0   \n",
       "1          Clothing                0                             0   \n",
       "2       Restaurants                0                             0   \n",
       "3          Clothing                0                             0   \n",
       "4       Electronics                0                             1   \n",
       "\n",
       "   Daily_Transaction_Count  Avg_Transaction_Amount_7d  \\\n",
       "0                        7                     437.63   \n",
       "1                       13                     478.76   \n",
       "2                       14                      50.01   \n",
       "3                        8                     182.48   \n",
       "4                       14                     328.69   \n",
       "\n",
       "   Failed_Transaction_Count_7d   Card_Type  Card_Age  Transaction_Distance  \\\n",
       "0                            3        Amex        65                883.17   \n",
       "1                            4  Mastercard       186               2203.36   \n",
       "2                            4        Visa       226               1909.29   \n",
       "3                            4        Visa        76               1311.86   \n",
       "4                            4  Mastercard       140                966.98   \n",
       "\n",
       "  Authentication_Method  Risk_Score  Is_Weekend  Fraud_Label  Hour  \n",
       "0             Biometric      0.8494           0            0    19  \n",
       "1              Password      0.0959           0            1     4  \n",
       "2             Biometric      0.8400           0            1    15  \n",
       "3                   OTP      0.7935           0            1     0  \n",
       "4              Password      0.3819           1            1    23  "
      ]
     },
     "execution_count": 5,
     "metadata": {},
     "output_type": "execute_result"
    }
   ],
   "source": [
    "target_col = 'Fraud_Label'\n",
    "print(df.shape)\n",
    "df.columns = df.columns.str.strip()\n",
    "#drop: Transaction_ID, User_ID\n",
    "df.drop(['Transaction_ID', 'User_ID'], axis=1, inplace=True)\n",
    "# Convert to datetime if not already\n",
    "df['Timestamp'] = pd.to_datetime(df['Timestamp'])\n",
    "\n",
    "# Extract hour\n",
    "df['Hour'] = df['Timestamp'].dt.hour\n",
    "\n",
    "# Drop original Timestamp column\n",
    "df = df.drop(columns=['Timestamp'])\n",
    "df.head()"
   ]
  },
  {
   "cell_type": "code",
   "execution_count": null,
   "metadata": {},
   "outputs": [
    {
     "name": "stdout",
     "output_type": "stream",
     "text": [
      "<class 'pandas.core.frame.DataFrame'>\n",
      "RangeIndex: 50000 entries, 0 to 49999\n",
      "Data columns (total 19 columns):\n",
      " #   Column                        Non-Null Count  Dtype  \n",
      "---  ------                        --------------  -----  \n",
      " 0   Transaction_Amount            50000 non-null  float64\n",
      " 1   Transaction_Type              50000 non-null  object \n",
      " 2   Account_Balance               50000 non-null  float64\n",
      " 3   Device_Type                   50000 non-null  object \n",
      " 4   Location                      50000 non-null  object \n",
      " 5   Merchant_Category             50000 non-null  object \n",
      " 6   IP_Address_Flag               50000 non-null  int64  \n",
      " 7   Previous_Fraudulent_Activity  50000 non-null  int64  \n",
      " 8   Daily_Transaction_Count       50000 non-null  int64  \n",
      " 9   Avg_Transaction_Amount_7d     50000 non-null  float64\n",
      " 10  Failed_Transaction_Count_7d   50000 non-null  int64  \n",
      " 11  Card_Type                     50000 non-null  object \n",
      " 12  Card_Age                      50000 non-null  int64  \n",
      " 13  Transaction_Distance          50000 non-null  float64\n",
      " 14  Authentication_Method         50000 non-null  object \n",
      " 15  Risk_Score                    50000 non-null  float64\n",
      " 16  Is_Weekend                    50000 non-null  int64  \n",
      " 17  Fraud_Label                   50000 non-null  int64  \n",
      " 18  Hour                          50000 non-null  int32  \n",
      "dtypes: float64(5), int32(1), int64(7), object(6)\n",
      "memory usage: 7.1+ MB\n"
     ]
    }
   ],
   "source": [
    "df.info()"
   ]
  },
  {
   "cell_type": "code",
   "execution_count": null,
   "metadata": {},
   "outputs": [
    {
     "data": {
      "text/plain": [
       "0"
      ]
     },
     "execution_count": 7,
     "metadata": {},
     "output_type": "execute_result"
    }
   ],
   "source": [
    "df.isnull().sum().sum()"
   ]
  },
  {
   "cell_type": "code",
   "execution_count": null,
   "metadata": {},
   "outputs": [
    {
     "name": "stdout",
     "output_type": "stream",
     "text": [
      "Fraud_Label: Fraud_Label\n",
      "0    33933\n",
      "1    16067\n",
      "Name: count, dtype: int64\n",
      "Column 'Transaction_Type' has 4 unique values.\n",
      "Column 'Device_Type' has 3 unique values.\n",
      "Column 'Location' has 5 unique values.\n",
      "Column 'Merchant_Category' has 5 unique values.\n",
      "Column 'Card_Type' has 4 unique values.\n",
      "Column 'Authentication_Method' has 4 unique values.\n"
     ]
    }
   ],
   "source": [
    "print(f\"{target_col}: {df[target_col].value_counts()}\")\n",
    "\n",
    "for col in df.columns:\n",
    "    if df[col].dtype == 'object':\n",
    "        df[col] = pd.factorize(df[col])[0]\n",
    "        print(f\"Column '{col}' has {df[col].nunique()} unique values.\")\n",
    "\n",
    "class_names = ['Not Fraud', 'Fraud']\n",
    "# Define label mapping\n",
    "label_map = {0: \"Not Fraud\", 1: \"Fraud\"}"
   ]
  },
  {
   "cell_type": "code",
   "execution_count": null,
   "metadata": {},
   "outputs": [
    {
     "data": {
      "text/plain": [
       "Fraud_Label\n",
       "0    33933\n",
       "1    16067\n",
       "Name: count, dtype: int64"
      ]
     },
     "execution_count": 9,
     "metadata": {},
     "output_type": "execute_result"
    }
   ],
   "source": [
    "df[target_col].value_counts()"
   ]
  },
  {
   "cell_type": "code",
   "execution_count": null,
   "metadata": {},
   "outputs": [],
   "source": [
    "# Normalize the data\n",
    "feature_cols = df.columns[df.columns != target_col]\n",
    "mx = MinMaxScaler()\n",
    "df[feature_cols] = mx.fit_transform(df[feature_cols])\n"
   ]
  },
  {
   "cell_type": "code",
   "execution_count": null,
   "metadata": {},
   "outputs": [
    {
     "name": "stdout",
     "output_type": "stream",
     "text": [
      "Test Accuracy: 1.0000\n",
      "Tree Depth: 2 | Number of Leaves: 3\n"
     ]
    }
   ],
   "source": [
    "X = df.drop(target_col, axis=1)\n",
    "y = df[target_col]\n",
    "\n",
    "# 80% training, 20% testing\n",
    "X_train, X_test, y_train, y_test = train_test_split(X, y, test_size=0.2, random_state=42, shuffle=True, stratify=y)\n",
    "\n",
    "clf = DecisionTreeClassifier(\n",
    "    criterion=\"entropy\",\n",
    "    max_depth=4,              # Try values: None, 3, 5, 10, etc.\n",
    "    min_samples_split=100,     # Prevent overfitting\n",
    "    min_samples_leaf=50,       # Minimum samples in a leaf\n",
    "    min_impurity_decrease=0.01,\n",
    "    # max_features=\"sqrt\",\n",
    "    random_state=42\n",
    ")\n",
    "clf.fit(X_train, y_train)\n",
    "\n",
    "y_pred = clf.predict(X_test)\n",
    "accuracy = accuracy_score(y_test, y_pred)\n",
    "\n",
    "\n",
    "depth = clf.get_depth()\n",
    "print(f\"Test Accuracy: {accuracy:.4f}\")\n",
    "print(f\"Tree Depth: {depth} | Number of Leaves: {clf.get_n_leaves()}\")"
   ]
  },
  {
   "cell_type": "code",
   "execution_count": null,
   "metadata": {},
   "outputs": [
    {
     "ename": "InvalidParameterError",
     "evalue": "The 'feature_names' parameter of plot_tree must be an instance of 'list' or None. Got Index(['Transaction_Amount', 'Transaction_Type', 'Account_Balance',\n       'Device_Type', 'Location', 'Merchant_Category', 'IP_Address_Flag',\n       'Previous_Fraudulent_Activity', 'Daily_Transaction_Count',\n       'Avg_Transaction_Amount_7d', 'Failed_Transaction_Count_7d', 'Card_Type',\n       'Card_Age', 'Transaction_Distance', 'Authentication_Method',\n       'Risk_Score', 'Is_Weekend', 'Hour'],\n      dtype='object') instead.",
     "output_type": "error",
     "traceback": [
      "\u001b[1;31m---------------------------------------------------------------------------\u001b[0m",
      "\u001b[1;31mInvalidParameterError\u001b[0m                     Traceback (most recent call last)",
      "Cell \u001b[1;32mIn[12], line 2\u001b[0m\n\u001b[0;32m      1\u001b[0m plt\u001b[38;5;241m.\u001b[39mfigure(figsize\u001b[38;5;241m=\u001b[39m(\u001b[38;5;241m40\u001b[39m, \u001b[38;5;241m20\u001b[39m), dpi\u001b[38;5;241m=\u001b[39m\u001b[38;5;241m300\u001b[39m)\n\u001b[1;32m----> 2\u001b[0m \u001b[43mplot_tree\u001b[49m\u001b[43m(\u001b[49m\n\u001b[0;32m      3\u001b[0m \u001b[43m    \u001b[49m\u001b[43mclf\u001b[49m\u001b[43m,\u001b[49m\n\u001b[0;32m      4\u001b[0m \u001b[43m    \u001b[49m\u001b[43mfeature_names\u001b[49m\u001b[38;5;241;43m=\u001b[39;49m\u001b[43mX\u001b[49m\u001b[38;5;241;43m.\u001b[39;49m\u001b[43mcolumns\u001b[49m\u001b[43m,\u001b[49m\n\u001b[0;32m      5\u001b[0m \u001b[43m    \u001b[49m\u001b[43mclass_names\u001b[49m\u001b[38;5;241;43m=\u001b[39;49m\u001b[43mclass_names\u001b[49m\u001b[43m,\u001b[49m\n\u001b[0;32m      6\u001b[0m \u001b[43m    \u001b[49m\u001b[43mfilled\u001b[49m\u001b[38;5;241;43m=\u001b[39;49m\u001b[38;5;28;43;01mTrue\u001b[39;49;00m\u001b[43m,\u001b[49m\n\u001b[0;32m      7\u001b[0m \u001b[43m    \u001b[49m\u001b[43mrounded\u001b[49m\u001b[38;5;241;43m=\u001b[39;49m\u001b[38;5;28;43;01mTrue\u001b[39;49;00m\u001b[43m,\u001b[49m\n\u001b[0;32m      8\u001b[0m \u001b[43m    \u001b[49m\u001b[43mimpurity\u001b[49m\u001b[38;5;241;43m=\u001b[39;49m\u001b[38;5;28;43;01mFalse\u001b[39;49;00m\u001b[43m,\u001b[49m\n\u001b[0;32m      9\u001b[0m \u001b[43m    \u001b[49m\u001b[43mlabel\u001b[49m\u001b[38;5;241;43m=\u001b[39;49m\u001b[38;5;124;43m\"\u001b[39;49m\u001b[38;5;124;43mroot\u001b[39;49m\u001b[38;5;124;43m\"\u001b[39;49m\n\u001b[0;32m     10\u001b[0m \u001b[43m)\u001b[49m\n\u001b[0;32m     11\u001b[0m plt\u001b[38;5;241m.\u001b[39msavefig(\u001b[38;5;124m\"\u001b[39m\u001b[38;5;124mTrees/decision_tree_rule_fraud.png\u001b[39m\u001b[38;5;124m\"\u001b[39m, bbox_inches\u001b[38;5;241m=\u001b[39m\u001b[38;5;124m\"\u001b[39m\u001b[38;5;124mtight\u001b[39m\u001b[38;5;124m\"\u001b[39m)\n\u001b[0;32m     12\u001b[0m \u001b[38;5;66;03m# plt.close()\u001b[39;00m\n",
      "File \u001b[1;32mc:\\ProgramData\\anaconda3\\Lib\\site-packages\\sklearn\\utils\\_param_validation.py:201\u001b[0m, in \u001b[0;36mvalidate_params.<locals>.decorator.<locals>.wrapper\u001b[1;34m(*args, **kwargs)\u001b[0m\n\u001b[0;32m    198\u001b[0m to_ignore \u001b[38;5;241m+\u001b[39m\u001b[38;5;241m=\u001b[39m [\u001b[38;5;124m\"\u001b[39m\u001b[38;5;124mself\u001b[39m\u001b[38;5;124m\"\u001b[39m, \u001b[38;5;124m\"\u001b[39m\u001b[38;5;124mcls\u001b[39m\u001b[38;5;124m\"\u001b[39m]\n\u001b[0;32m    199\u001b[0m params \u001b[38;5;241m=\u001b[39m {k: v \u001b[38;5;28;01mfor\u001b[39;00m k, v \u001b[38;5;129;01min\u001b[39;00m params\u001b[38;5;241m.\u001b[39marguments\u001b[38;5;241m.\u001b[39mitems() \u001b[38;5;28;01mif\u001b[39;00m k \u001b[38;5;129;01mnot\u001b[39;00m \u001b[38;5;129;01min\u001b[39;00m to_ignore}\n\u001b[1;32m--> 201\u001b[0m \u001b[43mvalidate_parameter_constraints\u001b[49m\u001b[43m(\u001b[49m\n\u001b[0;32m    202\u001b[0m \u001b[43m    \u001b[49m\u001b[43mparameter_constraints\u001b[49m\u001b[43m,\u001b[49m\u001b[43m \u001b[49m\u001b[43mparams\u001b[49m\u001b[43m,\u001b[49m\u001b[43m \u001b[49m\u001b[43mcaller_name\u001b[49m\u001b[38;5;241;43m=\u001b[39;49m\u001b[43mfunc\u001b[49m\u001b[38;5;241;43m.\u001b[39;49m\u001b[38;5;18;43m__qualname__\u001b[39;49m\n\u001b[0;32m    203\u001b[0m \u001b[43m\u001b[49m\u001b[43m)\u001b[49m\n\u001b[0;32m    205\u001b[0m \u001b[38;5;28;01mtry\u001b[39;00m:\n\u001b[0;32m    206\u001b[0m     \u001b[38;5;28;01mwith\u001b[39;00m config_context(\n\u001b[0;32m    207\u001b[0m         skip_parameter_validation\u001b[38;5;241m=\u001b[39m(\n\u001b[0;32m    208\u001b[0m             prefer_skip_nested_validation \u001b[38;5;129;01mor\u001b[39;00m global_skip_validation\n\u001b[0;32m    209\u001b[0m         )\n\u001b[0;32m    210\u001b[0m     ):\n",
      "File \u001b[1;32mc:\\ProgramData\\anaconda3\\Lib\\site-packages\\sklearn\\utils\\_param_validation.py:95\u001b[0m, in \u001b[0;36mvalidate_parameter_constraints\u001b[1;34m(parameter_constraints, params, caller_name)\u001b[0m\n\u001b[0;32m     89\u001b[0m \u001b[38;5;28;01melse\u001b[39;00m:\n\u001b[0;32m     90\u001b[0m     constraints_str \u001b[38;5;241m=\u001b[39m (\n\u001b[0;32m     91\u001b[0m         \u001b[38;5;124mf\u001b[39m\u001b[38;5;124m\"\u001b[39m\u001b[38;5;132;01m{\u001b[39;00m\u001b[38;5;124m'\u001b[39m\u001b[38;5;124m, \u001b[39m\u001b[38;5;124m'\u001b[39m\u001b[38;5;241m.\u001b[39mjoin([\u001b[38;5;28mstr\u001b[39m(c)\u001b[38;5;250m \u001b[39m\u001b[38;5;28;01mfor\u001b[39;00m\u001b[38;5;250m \u001b[39mc\u001b[38;5;250m \u001b[39m\u001b[38;5;129;01min\u001b[39;00m\u001b[38;5;250m \u001b[39mconstraints[:\u001b[38;5;241m-\u001b[39m\u001b[38;5;241m1\u001b[39m]])\u001b[38;5;132;01m}\u001b[39;00m\u001b[38;5;124m or\u001b[39m\u001b[38;5;124m\"\u001b[39m\n\u001b[0;32m     92\u001b[0m         \u001b[38;5;124mf\u001b[39m\u001b[38;5;124m\"\u001b[39m\u001b[38;5;124m \u001b[39m\u001b[38;5;132;01m{\u001b[39;00mconstraints[\u001b[38;5;241m-\u001b[39m\u001b[38;5;241m1\u001b[39m]\u001b[38;5;132;01m}\u001b[39;00m\u001b[38;5;124m\"\u001b[39m\n\u001b[0;32m     93\u001b[0m     )\n\u001b[1;32m---> 95\u001b[0m \u001b[38;5;28;01mraise\u001b[39;00m InvalidParameterError(\n\u001b[0;32m     96\u001b[0m     \u001b[38;5;124mf\u001b[39m\u001b[38;5;124m\"\u001b[39m\u001b[38;5;124mThe \u001b[39m\u001b[38;5;132;01m{\u001b[39;00mparam_name\u001b[38;5;132;01m!r}\u001b[39;00m\u001b[38;5;124m parameter of \u001b[39m\u001b[38;5;132;01m{\u001b[39;00mcaller_name\u001b[38;5;132;01m}\u001b[39;00m\u001b[38;5;124m must be\u001b[39m\u001b[38;5;124m\"\u001b[39m\n\u001b[0;32m     97\u001b[0m     \u001b[38;5;124mf\u001b[39m\u001b[38;5;124m\"\u001b[39m\u001b[38;5;124m \u001b[39m\u001b[38;5;132;01m{\u001b[39;00mconstraints_str\u001b[38;5;132;01m}\u001b[39;00m\u001b[38;5;124m. Got \u001b[39m\u001b[38;5;132;01m{\u001b[39;00mparam_val\u001b[38;5;132;01m!r}\u001b[39;00m\u001b[38;5;124m instead.\u001b[39m\u001b[38;5;124m\"\u001b[39m\n\u001b[0;32m     98\u001b[0m )\n",
      "\u001b[1;31mInvalidParameterError\u001b[0m: The 'feature_names' parameter of plot_tree must be an instance of 'list' or None. Got Index(['Transaction_Amount', 'Transaction_Type', 'Account_Balance',\n       'Device_Type', 'Location', 'Merchant_Category', 'IP_Address_Flag',\n       'Previous_Fraudulent_Activity', 'Daily_Transaction_Count',\n       'Avg_Transaction_Amount_7d', 'Failed_Transaction_Count_7d', 'Card_Type',\n       'Card_Age', 'Transaction_Distance', 'Authentication_Method',\n       'Risk_Score', 'Is_Weekend', 'Hour'],\n      dtype='object') instead."
     ]
    },
    {
     "data": {
      "text/plain": [
       "<Figure size 12000x6000 with 0 Axes>"
      ]
     },
     "metadata": {},
     "output_type": "display_data"
    }
   ],
   "source": [
    "plt.figure(figsize=(40, 20), dpi=300)\n",
    "plot_tree(\n",
    "    clf,\n",
    "    feature_names=X.columns,\n",
    "    class_names=class_names,\n",
    "    filled=True,\n",
    "    rounded=True,\n",
    "    impurity=False,\n",
    "    label=\"root\"\n",
    ")\n",
    "plt.savefig(\"Trees/decision_tree_rule_fraud.png\", bbox_inches=\"tight\")\n",
    "# plt.close()\n"
   ]
  },
  {
   "cell_type": "code",
   "execution_count": null,
   "metadata": {},
   "outputs": [],
   "source": [
    "tree_rules = export_text(clf, feature_names=list(X.columns), max_depth=depth+5, decimals=5)\n",
    "# print(rules)\n",
    "# Write rules to a file\n",
    "with open(\"Rules/fraud_rules.txt\", \"w\") as f:\n",
    "    f.write(tree_rules)"
   ]
  },
  {
   "cell_type": "code",
   "execution_count": null,
   "metadata": {},
   "outputs": [
    {
     "name": "stdout",
     "output_type": "stream",
     "text": [
      "from experta import *\n",
      "\n",
      "class FraudExpert(KnowledgeEngine):\n",
      "    def __init__(self):\n",
      "        super().__init__()\n",
      "        self.prediction = None\n",
      "\n",
      "    @Rule(Fact(Failed_Transaction_Count_7d=P(lambda x: x <= 0.875), Risk_Score=P(lambda x: x <= 0.85004)))\n",
      "    def rule_0(self):\n",
      "        # print(f\"Rule 0: Fraud Status: Not Fraud\")\n",
      "        self.prediction = 0\n",
      "\n",
      "    @Rule(Fact(Failed_Transaction_Count_7d=P(lambda x: x <= 0.875), Risk_Score=P(lambda x: x > 0.85004)))\n",
      "    def rule_1(self):\n",
      "        # print(f\"Rule 1: Fraud Status: Fraud\")\n",
      "        self.prediction = 1\n",
      "\n",
      "    @Rule(Fact(Failed_Transaction_Count_7d=P(lambda x: x > 0.875)))\n",
      "    def rule_2(self):\n",
      "        # print(f\"Rule 2: Fraud Status: Fraud\")\n",
      "        self.prediction = 1\n",
      "\n"
     ]
    }
   ],
   "source": [
    "# Parse and convert\n",
    "rules = []\n",
    "rule_count = 0\n",
    "stack = []\n",
    "\n",
    "for line in tree_rules.split(\"\\n\"):\n",
    "    indent_level = line.count(\"|   \")\n",
    "    line = line.strip()\n",
    "\n",
    "    # Remove tree symbols\n",
    "    line = re.sub(r\"\\|--- \", \"\", line)\n",
    "    line = line.replace(\"|   \", \"\")\n",
    "\n",
    "    if line.startswith(\"class:\"):\n",
    "        class_val = int(float(line.split(\":\")[1].strip()))\n",
    "        class_label = label_map[class_val]\n",
    "        # Build final rule from stack\n",
    "        conditions = stack[:indent_level]\n",
    "        condition_str = \", \".join(conditions)\n",
    "        rule_code = f\"\"\"    @Rule(Fact({condition_str}))\n",
    "    def rule_{rule_count}(self):\n",
    "        # print(f\"Rule {rule_count}: Fraud Status: {class_label}\")\n",
    "        self.prediction = {0 if class_label == \"Not Fraud\" else 1}\\n\"\"\"\n",
    "        rules.append(rule_code)\n",
    "        rule_count += 1\n",
    "    elif \"<=\" in line or \">\" in line:\n",
    "        op = \"<=\" if \" <= \" in line else \">\"\n",
    "        feature, op_val = line.split(op)\n",
    "        val = float(op_val.strip())\n",
    "        stack = stack[:indent_level] + [f\"{feature.strip()}=P(lambda x: x {op} {val})\"]\n",
    "\n",
    "# Output rules\n",
    "print(\"\"\"from experta import *\\n\\nclass FraudExpert(KnowledgeEngine):\n",
    "    def __init__(self):\n",
    "        super().__init__()\n",
    "        self.prediction = None\\n\"\"\")\n",
    "for r in rules:\n",
    "    print(r)\n"
   ]
  },
  {
   "cell_type": "code",
   "execution_count": null,
   "metadata": {},
   "outputs": [
    {
     "ename": "AttributeError",
     "evalue": "module 'collections' has no attribute 'Mapping'",
     "output_type": "error",
     "traceback": [
      "\u001b[1;31m---------------------------------------------------------------------------\u001b[0m",
      "\u001b[1;31mAttributeError\u001b[0m                            Traceback (most recent call last)",
      "Cell \u001b[1;32mIn[16], line 1\u001b[0m\n\u001b[1;32m----> 1\u001b[0m \u001b[38;5;28;01mfrom\u001b[39;00m \u001b[38;5;21;01mexperta\u001b[39;00m \u001b[38;5;28;01mimport\u001b[39;00m \u001b[38;5;241m*\u001b[39m\n\u001b[0;32m      3\u001b[0m \u001b[38;5;28;01mclass\u001b[39;00m \u001b[38;5;21;01mFraudExpert\u001b[39;00m(KnowledgeEngine):\n\u001b[0;32m      4\u001b[0m     \u001b[38;5;28;01mdef\u001b[39;00m \u001b[38;5;21m__init__\u001b[39m(\u001b[38;5;28mself\u001b[39m):\n",
      "File \u001b[1;32m~\\AppData\\Roaming\\Python\\Python311\\site-packages\\experta\\__init__.py:5\u001b[0m\n\u001b[0;32m      3\u001b[0m \u001b[38;5;28;01mtry\u001b[39;00m:\n\u001b[0;32m      4\u001b[0m     \u001b[38;5;28;01mfrom\u001b[39;00m \u001b[38;5;21;01m.\u001b[39;00m\u001b[38;5;21;01mconditionalelement\u001b[39;00m \u001b[38;5;28;01mimport\u001b[39;00m AND, OR, NOT, TEST, EXISTS, FORALL\n\u001b[1;32m----> 5\u001b[0m     \u001b[38;5;28;01mfrom\u001b[39;00m \u001b[38;5;21;01m.\u001b[39;00m\u001b[38;5;21;01mengine\u001b[39;00m \u001b[38;5;28;01mimport\u001b[39;00m KnowledgeEngine\n\u001b[0;32m      6\u001b[0m     \u001b[38;5;28;01mfrom\u001b[39;00m \u001b[38;5;21;01m.\u001b[39;00m\u001b[38;5;21;01mfact\u001b[39;00m \u001b[38;5;28;01mimport\u001b[39;00m Fact, InitialFact, Field\n\u001b[0;32m      7\u001b[0m     \u001b[38;5;28;01mfrom\u001b[39;00m \u001b[38;5;21;01m.\u001b[39;00m\u001b[38;5;21;01mfieldconstraint\u001b[39;00m \u001b[38;5;28;01mimport\u001b[39;00m L, W, P\n",
      "File \u001b[1;32m~\\AppData\\Roaming\\Python\\Python311\\site-packages\\experta\\engine.py:13\u001b[0m\n\u001b[0;32m     10\u001b[0m \u001b[38;5;28;01mfrom\u001b[39;00m \u001b[38;5;21;01mexperta\u001b[39;00m \u001b[38;5;28;01mimport\u001b[39;00m abstract\n\u001b[0;32m     12\u001b[0m \u001b[38;5;28;01mfrom\u001b[39;00m \u001b[38;5;21;01mexperta\u001b[39;00m\u001b[38;5;21;01m.\u001b[39;00m\u001b[38;5;21;01magenda\u001b[39;00m \u001b[38;5;28;01mimport\u001b[39;00m Agenda\n\u001b[1;32m---> 13\u001b[0m \u001b[38;5;28;01mfrom\u001b[39;00m \u001b[38;5;21;01mexperta\u001b[39;00m\u001b[38;5;21;01m.\u001b[39;00m\u001b[38;5;21;01mfact\u001b[39;00m \u001b[38;5;28;01mimport\u001b[39;00m InitialFact\n\u001b[0;32m     14\u001b[0m \u001b[38;5;28;01mfrom\u001b[39;00m \u001b[38;5;21;01mexperta\u001b[39;00m\u001b[38;5;21;01m.\u001b[39;00m\u001b[38;5;21;01mfactlist\u001b[39;00m \u001b[38;5;28;01mimport\u001b[39;00m FactList\n\u001b[0;32m     15\u001b[0m \u001b[38;5;28;01mfrom\u001b[39;00m \u001b[38;5;21;01mexperta\u001b[39;00m\u001b[38;5;21;01m.\u001b[39;00m\u001b[38;5;21;01mrule\u001b[39;00m \u001b[38;5;28;01mimport\u001b[39;00m Rule\n",
      "File \u001b[1;32m~\\AppData\\Roaming\\Python\\Python311\\site-packages\\experta\\fact.py:9\u001b[0m\n\u001b[0;32m      6\u001b[0m \u001b[38;5;28;01mfrom\u001b[39;00m \u001b[38;5;21;01mschema\u001b[39;00m \u001b[38;5;28;01mimport\u001b[39;00m Schema\n\u001b[0;32m      8\u001b[0m \u001b[38;5;28;01mfrom\u001b[39;00m \u001b[38;5;21;01mexperta\u001b[39;00m\u001b[38;5;21;01m.\u001b[39;00m\u001b[38;5;21;01mpattern\u001b[39;00m \u001b[38;5;28;01mimport\u001b[39;00m Bindable\n\u001b[1;32m----> 9\u001b[0m \u001b[38;5;28;01mfrom\u001b[39;00m \u001b[38;5;21;01mexperta\u001b[39;00m\u001b[38;5;21;01m.\u001b[39;00m\u001b[38;5;21;01mutils\u001b[39;00m \u001b[38;5;28;01mimport\u001b[39;00m freeze, unfreeze\n\u001b[0;32m     10\u001b[0m \u001b[38;5;28;01mfrom\u001b[39;00m \u001b[38;5;21;01mexperta\u001b[39;00m\u001b[38;5;21;01m.\u001b[39;00m\u001b[38;5;21;01mconditionalelement\u001b[39;00m \u001b[38;5;28;01mimport\u001b[39;00m OperableCE\n\u001b[0;32m     11\u001b[0m \u001b[38;5;28;01mfrom\u001b[39;00m \u001b[38;5;21;01mexperta\u001b[39;00m\u001b[38;5;21;01m.\u001b[39;00m\u001b[38;5;21;01mconditionalelement\u001b[39;00m \u001b[38;5;28;01mimport\u001b[39;00m ConditionalElement\n",
      "File \u001b[1;32m~\\AppData\\Roaming\\Python\\Python311\\site-packages\\experta\\utils.py:4\u001b[0m\n\u001b[0;32m      1\u001b[0m \u001b[38;5;28;01mfrom\u001b[39;00m \u001b[38;5;21;01mfunctools\u001b[39;00m \u001b[38;5;28;01mimport\u001b[39;00m singledispatch\n\u001b[0;32m      2\u001b[0m \u001b[38;5;28;01mimport\u001b[39;00m \u001b[38;5;21;01mcollections\u001b[39;00m\u001b[38;5;21;01m.\u001b[39;00m\u001b[38;5;21;01mabc\u001b[39;00m\n\u001b[1;32m----> 4\u001b[0m \u001b[38;5;28;01mfrom\u001b[39;00m \u001b[38;5;21;01mfrozendict\u001b[39;00m \u001b[38;5;28;01mimport\u001b[39;00m frozendict\n\u001b[0;32m      6\u001b[0m \u001b[38;5;28;01mfrom\u001b[39;00m \u001b[38;5;21;01m.\u001b[39;00m\u001b[38;5;21;01mfieldconstraint\u001b[39;00m \u001b[38;5;28;01mimport\u001b[39;00m P\n\u001b[0;32m      9\u001b[0m \u001b[38;5;28;01mclass\u001b[39;00m \u001b[38;5;21;01mfrozenlist\u001b[39;00m(\u001b[38;5;28mtuple\u001b[39m):\n",
      "File \u001b[1;32m~\\AppData\\Roaming\\Python\\Python311\\site-packages\\frozendict\\__init__.py:16\u001b[0m\n\u001b[0;32m     10\u001b[0m     OrderedDict \u001b[38;5;241m=\u001b[39m \u001b[38;5;28mNotImplemented\u001b[39m\n\u001b[0;32m     13\u001b[0m iteritems \u001b[38;5;241m=\u001b[39m \u001b[38;5;28mgetattr\u001b[39m(\u001b[38;5;28mdict\u001b[39m, \u001b[38;5;124m'\u001b[39m\u001b[38;5;124miteritems\u001b[39m\u001b[38;5;124m'\u001b[39m, \u001b[38;5;28mdict\u001b[39m\u001b[38;5;241m.\u001b[39mitems) \u001b[38;5;66;03m# py2-3 compatibility\u001b[39;00m\n\u001b[1;32m---> 16\u001b[0m \u001b[38;5;28;01mclass\u001b[39;00m \u001b[38;5;21;01mfrozendict\u001b[39;00m(\u001b[43mcollections\u001b[49m\u001b[38;5;241;43m.\u001b[39;49m\u001b[43mMapping\u001b[49m):\n\u001b[0;32m     17\u001b[0m \u001b[38;5;250m    \u001b[39m\u001b[38;5;124;03m\"\"\"\u001b[39;00m\n\u001b[0;32m     18\u001b[0m \u001b[38;5;124;03m    An immutable wrapper around dictionaries that implements the complete :py:class:`collections.Mapping`\u001b[39;00m\n\u001b[0;32m     19\u001b[0m \u001b[38;5;124;03m    interface. It can be used as a drop-in replacement for dictionaries where immutability is desired.\u001b[39;00m\n\u001b[0;32m     20\u001b[0m \u001b[38;5;124;03m    \"\"\"\u001b[39;00m\n\u001b[0;32m     22\u001b[0m     dict_cls \u001b[38;5;241m=\u001b[39m \u001b[38;5;28mdict\u001b[39m\n",
      "\u001b[1;31mAttributeError\u001b[0m: module 'collections' has no attribute 'Mapping'"
     ]
    }
   ],
   "source": [
    "from experta import *\n",
    "\n",
    "class FraudExpert(KnowledgeEngine):\n",
    "    def __init__(self):\n",
    "        super().__init__()\n",
    "        self.prediction = None\n",
    "\n",
    "    @Rule(Fact(Failed_Transaction_Count_7d=P(lambda x: x <= 0.875), Risk_Score=P(lambda x: x <= 0.85004)))\n",
    "    def rule_0(self):\n",
    "        # print(f\"Rule 0: Fraud Status: Not Fraud\")\n",
    "        self.prediction = 0\n",
    "\n",
    "    @Rule(Fact(Failed_Transaction_Count_7d=P(lambda x: x <= 0.875), Risk_Score=P(lambda x: x > 0.85004)))\n",
    "    def rule_1(self):\n",
    "        # print(f\"Rule 1: Fraud Status: Fraud\")\n",
    "        self.prediction = 1\n",
    "\n",
    "    @Rule(Fact(Failed_Transaction_Count_7d=P(lambda x: x > 0.875)))\n",
    "    def rule_2(self):\n",
    "        # print(f\"Rule 2: Fraud Status: Fraud\")\n",
    "        self.prediction = 1"
   ]
  },
  {
   "cell_type": "code",
   "execution_count": null,
   "metadata": {},
   "outputs": [
    {
     "name": "stdout",
     "output_type": "stream",
     "text": [
      "0\n"
     ]
    }
   ],
   "source": [
    "# Testing on one example\n",
    "\n",
    "user_input = {\n",
    "    \"Transaction_Amount\":              39.79,\n",
    "    \"Transaction_Type\":                0,\n",
    "    \"Account_Balance\":                 93213.17,\n",
    "    \"Device_Type\":                     2,\n",
    "    \"Location\":                        2,\n",
    "    \"Merchant_Category\":               1,\n",
    "    \"IP_Address_Flag\":                 0,\n",
    "    \"Previous_Fraudulent_Activity\":    0,\n",
    "    \"Daily_Transaction_Count\":         7,\n",
    "    \"Avg_Transaction_Amount_7d\":       437.63,\n",
    "    \"Failed_Transaction_Count_7d\":     3,\n",
    "    \"Card_Type\":                       0,\n",
    "    \"Card_Age\":                        65,\n",
    "    \"Transaction_Distance\":            883.17,\n",
    "    \"Authentication_Method\":           1,\n",
    "    \"Risk_Score\":                      0.8494,\n",
    "    \"Is_Weekend\":                      0,\n",
    "    \"Hour\":                            5\n",
    "}\n",
    "# Convert to DataFrame to transform\n",
    "input_df = pd.DataFrame([user_input])\n",
    "normalized_input = mx.transform(input_df)[0]  # 1D array\n",
    "normalized_fact = dict(zip(df.columns, normalized_input))\n",
    "\n",
    "\n",
    "# normalized_fact = {\n",
    "# \"Transaction_Amount\":              0.008594,\n",
    "# \"Transaction_Type\":                0.000000,\n",
    "# \"Account_Balance\":                 0.737284,\n",
    "# \"Device_Type\":                     0.500000,\n",
    "# \"Location\":                        0.500000,\n",
    "# \"Merchant_Category\":               0.250000,\n",
    "# \"IP_Address_Flag\":                 0.000000,\n",
    "# \"Previous_Fraudulent_Activity\":    0.000000,\n",
    "# \"Daily_Transaction_Count\":         1.000000,\n",
    "# \"Avg_Transaction_Amount_7d\":       0.220714,\n",
    "# \"Failed_Transaction_Count_7d\":     0.750000,\n",
    "# \"Card_Type\":                       0.000000,\n",
    "# \"Card_Age\":                        0.676471,\n",
    "# \"Transaction_Distance\":            0.839782,\n",
    "# \"Authentication_Method\":           0.333333,\n",
    "# \"Risk_Score\":                      0.642464,\n",
    "# \"Is_Weekend\":                      0.000000,\n",
    "# \"Hour\":                            0.217391\n",
    "# }\n",
    "\n",
    "engine = FraudExpert()\n",
    "engine.reset()\n",
    "engine.declare(Fact(**normalized_fact))\n",
    "engine.run()\n",
    "print(engine.prediction)\n"
   ]
  },
  {
   "cell_type": "code",
   "execution_count": null,
   "metadata": {},
   "outputs": [
    {
     "ename": "NameError",
     "evalue": "name 'X_test' is not defined",
     "output_type": "error",
     "traceback": [
      "\u001b[1;31m---------------------------------------------------------------------------\u001b[0m",
      "\u001b[1;31mNameError\u001b[0m                                 Traceback (most recent call last)",
      "Cell \u001b[1;32mIn[1], line 5\u001b[0m\n\u001b[0;32m      1\u001b[0m \u001b[38;5;28;01mfrom\u001b[39;00m \u001b[38;5;21;01msklearn\u001b[39;00m\u001b[38;5;21;01m.\u001b[39;00m\u001b[38;5;21;01mmetrics\u001b[39;00m \u001b[38;5;28;01mimport\u001b[39;00m f1_score, confusion_matrix, classification_report, precision_score, recall_score\n\u001b[0;32m      3\u001b[0m y_pred_rule \u001b[38;5;241m=\u001b[39m []\n\u001b[1;32m----> 5\u001b[0m \u001b[38;5;28;01mfor\u001b[39;00m i, row \u001b[38;5;129;01min\u001b[39;00m \u001b[43mX_test\u001b[49m\u001b[38;5;241m.\u001b[39miterrows():\n\u001b[0;32m      6\u001b[0m     \u001b[38;5;66;03m# Run inference using your rule engine\u001b[39;00m\n\u001b[0;32m      7\u001b[0m     engine \u001b[38;5;241m=\u001b[39m FraudExpert()\n\u001b[0;32m      8\u001b[0m     engine\u001b[38;5;241m.\u001b[39mreset()\n",
      "\u001b[1;31mNameError\u001b[0m: name 'X_test' is not defined"
     ]
    }
   ],
   "source": [
    "from sklearn.metrics import f1_score, confusion_matrix, classification_report, precision_score, recall_score\n",
    "\n",
    "y_pred_rule = []\n",
    "\n",
    "for i, row in X_test.iterrows():\n",
    "    # Run inference using your rule engine\n",
    "    engine = FraudExpert()\n",
    "    engine.reset()\n",
    "    engine.declare(Fact(**row))\n",
    "    engine.run()\n",
    "    if engine.prediction is None:\n",
    "        print(\"No rule matched for:\", row)\n",
    "    # Append predicted label\n",
    "    y_pred_rule.append(engine.prediction)\n",
    "\n",
    "y_pred_tree = clf.predict(X_test)\n",
    "# Compute accuracy\n",
    "print(f\"Accuracy on test set: {accuracy_score(y_test, y_pred_rule) * 100}%\")\n",
    "# Compute F1 score\n",
    "print(f\"F1 Score: {f1_score(y_test, y_pred_rule):.4f}\")\n",
    "# Compute precision and recall\n",
    "print(f\"Precision: {precision_score(y_test, y_pred_rule):.4f}\")\n",
    "print(f\"Recall: {recall_score(y_test, y_pred_rule):.4f}\")\n",
    "\n"
   ]
  }
 ],
 "metadata": {
  "kernelspec": {
   "display_name": "Python 3",
   "language": "python",
   "name": "python3"
  },
  "language_info": {
   "codemirror_mode": {
    "name": "ipython",
    "version": 3
   },
   "file_extension": ".py",
   "mimetype": "text/x-python",
   "name": "python",
   "nbconvert_exporter": "python",
   "pygments_lexer": "ipython3",
   "version": "3.9.2"
  }
 },
 "nbformat": 4,
 "nbformat_minor": 2
}
