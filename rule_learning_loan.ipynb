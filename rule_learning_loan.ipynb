{
 "cells": [
  {
   "cell_type": "code",
   "execution_count": 1,
   "metadata": {},
   "outputs": [],
   "source": [
    "# !pip install experta"
   ]
  },
  {
   "cell_type": "code",
   "execution_count": 2,
   "metadata": {},
   "outputs": [
    {
     "ename": "ModuleNotFoundError",
     "evalue": "No module named 'pandas'",
     "output_type": "error",
     "traceback": [
      "\u001b[1;31m---------------------------------------------------------------------------\u001b[0m",
      "\u001b[1;31mModuleNotFoundError\u001b[0m                       Traceback (most recent call last)",
      "Cell \u001b[1;32mIn[2], line 1\u001b[0m\n\u001b[1;32m----> 1\u001b[0m \u001b[38;5;28;01mimport\u001b[39;00m\u001b[38;5;250m \u001b[39m\u001b[38;5;21;01mpandas\u001b[39;00m\u001b[38;5;250m \u001b[39m\u001b[38;5;28;01mas\u001b[39;00m\u001b[38;5;250m \u001b[39m\u001b[38;5;21;01mpd\u001b[39;00m\n\u001b[0;32m      2\u001b[0m \u001b[38;5;28;01mimport\u001b[39;00m\u001b[38;5;250m \u001b[39m\u001b[38;5;21;01mpickle\u001b[39;00m\u001b[38;5;250m \u001b[39m\u001b[38;5;28;01mas\u001b[39;00m\u001b[38;5;250m \u001b[39m\u001b[38;5;21;01mpkl\u001b[39;00m\n\u001b[0;32m      3\u001b[0m \u001b[38;5;28;01mfrom\u001b[39;00m\u001b[38;5;250m \u001b[39m\u001b[38;5;21;01msklearn\u001b[39;00m\u001b[38;5;21;01m.\u001b[39;00m\u001b[38;5;21;01mpreprocessing\u001b[39;00m\u001b[38;5;250m \u001b[39m\u001b[38;5;28;01mimport\u001b[39;00m LabelEncoder\n",
      "\u001b[1;31mModuleNotFoundError\u001b[0m: No module named 'pandas'"
     ]
    }
   ],
   "source": [
    "import pandas as pd\n",
    "import pickle as pkl\n",
    "from sklearn.preprocessing import LabelEncoder\n",
    "from sklearn.tree import DecisionTreeClassifier\n",
    "from sklearn.preprocessing import MinMaxScaler\n",
    "from sklearn.model_selection import train_test_split\n",
    "from sklearn.metrics import accuracy_score\n",
    "import matplotlib.pyplot as plt\n",
    "from sklearn.tree import plot_tree\n",
    "import re\n",
    "from sklearn.tree import export_text"
   ]
  },
  {
   "cell_type": "code",
   "execution_count": null,
   "metadata": {},
   "outputs": [
    {
     "name": "stdout",
     "output_type": "stream",
     "text": [
      "4269\n"
     ]
    }
   ],
   "source": [
    "dataset = \"Loan-Approval-Prediction-Dataset/loan_approval_dataset.csv\"\n",
    "df = pd.read_csv('datasets/'+dataset)\n",
    "print(len(df))"
   ]
  },
  {
   "cell_type": "code",
   "execution_count": null,
   "metadata": {},
   "outputs": [
    {
     "data": {
      "text/html": [
       "<div>\n",
       "<style scoped>\n",
       "    .dataframe tbody tr th:only-of-type {\n",
       "        vertical-align: middle;\n",
       "    }\n",
       "\n",
       "    .dataframe tbody tr th {\n",
       "        vertical-align: top;\n",
       "    }\n",
       "\n",
       "    .dataframe thead th {\n",
       "        text-align: right;\n",
       "    }\n",
       "</style>\n",
       "<table border=\"1\" class=\"dataframe\">\n",
       "  <thead>\n",
       "    <tr style=\"text-align: right;\">\n",
       "      <th></th>\n",
       "      <th>no_of_dependents</th>\n",
       "      <th>education</th>\n",
       "      <th>self_employed</th>\n",
       "      <th>income_annum</th>\n",
       "      <th>loan_amount</th>\n",
       "      <th>loan_term</th>\n",
       "      <th>cibil_score</th>\n",
       "      <th>residential_assets_value</th>\n",
       "      <th>commercial_assets_value</th>\n",
       "      <th>luxury_assets_value</th>\n",
       "      <th>bank_asset_value</th>\n",
       "      <th>loan_status</th>\n",
       "    </tr>\n",
       "  </thead>\n",
       "  <tbody>\n",
       "    <tr>\n",
       "      <th>0</th>\n",
       "      <td>2</td>\n",
       "      <td>Graduate</td>\n",
       "      <td>No</td>\n",
       "      <td>9600000</td>\n",
       "      <td>29900000</td>\n",
       "      <td>12</td>\n",
       "      <td>778</td>\n",
       "      <td>2400000</td>\n",
       "      <td>17600000</td>\n",
       "      <td>22700000</td>\n",
       "      <td>8000000</td>\n",
       "      <td>Approved</td>\n",
       "    </tr>\n",
       "    <tr>\n",
       "      <th>1</th>\n",
       "      <td>0</td>\n",
       "      <td>Not Graduate</td>\n",
       "      <td>Yes</td>\n",
       "      <td>4100000</td>\n",
       "      <td>12200000</td>\n",
       "      <td>8</td>\n",
       "      <td>417</td>\n",
       "      <td>2700000</td>\n",
       "      <td>2200000</td>\n",
       "      <td>8800000</td>\n",
       "      <td>3300000</td>\n",
       "      <td>Rejected</td>\n",
       "    </tr>\n",
       "    <tr>\n",
       "      <th>2</th>\n",
       "      <td>3</td>\n",
       "      <td>Graduate</td>\n",
       "      <td>No</td>\n",
       "      <td>9100000</td>\n",
       "      <td>29700000</td>\n",
       "      <td>20</td>\n",
       "      <td>506</td>\n",
       "      <td>7100000</td>\n",
       "      <td>4500000</td>\n",
       "      <td>33300000</td>\n",
       "      <td>12800000</td>\n",
       "      <td>Rejected</td>\n",
       "    </tr>\n",
       "    <tr>\n",
       "      <th>3</th>\n",
       "      <td>3</td>\n",
       "      <td>Graduate</td>\n",
       "      <td>No</td>\n",
       "      <td>8200000</td>\n",
       "      <td>30700000</td>\n",
       "      <td>8</td>\n",
       "      <td>467</td>\n",
       "      <td>18200000</td>\n",
       "      <td>3300000</td>\n",
       "      <td>23300000</td>\n",
       "      <td>7900000</td>\n",
       "      <td>Rejected</td>\n",
       "    </tr>\n",
       "    <tr>\n",
       "      <th>4</th>\n",
       "      <td>5</td>\n",
       "      <td>Not Graduate</td>\n",
       "      <td>Yes</td>\n",
       "      <td>9800000</td>\n",
       "      <td>24200000</td>\n",
       "      <td>20</td>\n",
       "      <td>382</td>\n",
       "      <td>12400000</td>\n",
       "      <td>8200000</td>\n",
       "      <td>29400000</td>\n",
       "      <td>5000000</td>\n",
       "      <td>Rejected</td>\n",
       "    </tr>\n",
       "  </tbody>\n",
       "</table>\n",
       "</div>"
      ],
      "text/plain": [
       "   no_of_dependents      education self_employed  income_annum  loan_amount  \\\n",
       "0                 2       Graduate            No       9600000     29900000   \n",
       "1                 0   Not Graduate           Yes       4100000     12200000   \n",
       "2                 3       Graduate            No       9100000     29700000   \n",
       "3                 3       Graduate            No       8200000     30700000   \n",
       "4                 5   Not Graduate           Yes       9800000     24200000   \n",
       "\n",
       "   loan_term  cibil_score  residential_assets_value  commercial_assets_value  \\\n",
       "0         12          778                   2400000                 17600000   \n",
       "1          8          417                   2700000                  2200000   \n",
       "2         20          506                   7100000                  4500000   \n",
       "3          8          467                  18200000                  3300000   \n",
       "4         20          382                  12400000                  8200000   \n",
       "\n",
       "   luxury_assets_value  bank_asset_value loan_status  \n",
       "0             22700000           8000000    Approved  \n",
       "1              8800000           3300000    Rejected  \n",
       "2             33300000          12800000    Rejected  \n",
       "3             23300000           7900000    Rejected  \n",
       "4             29400000           5000000    Rejected  "
      ]
     },
     "execution_count": 4,
     "metadata": {},
     "output_type": "execute_result"
    }
   ],
   "source": [
    "df.columns = df.columns.str.strip()\n",
    "# drop the 'Loan_ID' column as it is not useful for prediction\n",
    "df.drop(columns=['loan_id'], inplace=True)\n",
    "df.head()"
   ]
  },
  {
   "cell_type": "code",
   "execution_count": null,
   "metadata": {},
   "outputs": [
    {
     "name": "stdout",
     "output_type": "stream",
     "text": [
      "<class 'pandas.core.frame.DataFrame'>\n",
      "RangeIndex: 4269 entries, 0 to 4268\n",
      "Data columns (total 12 columns):\n",
      " #   Column                    Non-Null Count  Dtype \n",
      "---  ------                    --------------  ----- \n",
      " 0   no_of_dependents          4269 non-null   int64 \n",
      " 1   education                 4269 non-null   object\n",
      " 2   self_employed             4269 non-null   object\n",
      " 3   income_annum              4269 non-null   int64 \n",
      " 4   loan_amount               4269 non-null   int64 \n",
      " 5   loan_term                 4269 non-null   int64 \n",
      " 6   cibil_score               4269 non-null   int64 \n",
      " 7   residential_assets_value  4269 non-null   int64 \n",
      " 8   commercial_assets_value   4269 non-null   int64 \n",
      " 9   luxury_assets_value       4269 non-null   int64 \n",
      " 10  bank_asset_value          4269 non-null   int64 \n",
      " 11  loan_status               4269 non-null   object\n",
      "dtypes: int64(9), object(3)\n",
      "memory usage: 400.3+ KB\n"
     ]
    }
   ],
   "source": [
    "df.info()"
   ]
  },
  {
   "cell_type": "code",
   "execution_count": null,
   "metadata": {},
   "outputs": [
    {
     "data": {
      "text/plain": [
       "0"
      ]
     },
     "execution_count": 6,
     "metadata": {},
     "output_type": "execute_result"
    }
   ],
   "source": [
    "df.isnull().sum().sum()"
   ]
  },
  {
   "cell_type": "code",
   "execution_count": null,
   "metadata": {},
   "outputs": [
    {
     "name": "stdout",
     "output_type": "stream",
     "text": [
      "loan_status: loan_status\n",
      " Approved    2656\n",
      " Rejected    1613\n",
      "Name: count, dtype: int64\n",
      "loan_status: loan_status\n",
      "0    2656\n",
      "1    1613\n",
      "Name: count, dtype: int64\n"
     ]
    }
   ],
   "source": [
    "print(f\"loan_status: {df['loan_status'].value_counts()}\")\n",
    "# Encode categorical data\n",
    "le = LabelEncoder()\n",
    "for col in df.columns:\n",
    "    if df[col].dtype == 'object':\n",
    "        df[col] = pd.factorize(df[col])[0]\n",
    "class_names = ['Approved', 'Rejected']\n",
    "print(f\"loan_status: {df['loan_status'].value_counts()}\")\n",
    "\n",
    "# Define label mapping\n",
    "label_map = {0: \"Approved\", 1: \"Rejected\"}"
   ]
  },
  {
   "cell_type": "code",
   "execution_count": null,
   "metadata": {},
   "outputs": [],
   "source": [
    "# Normalize the data\n",
    "feature_cols = df.columns[df.columns != \"loan_status\"]\n",
    "mx = MinMaxScaler()\n",
    "df[feature_cols] = mx.fit_transform(df[feature_cols])\n"
   ]
  },
  {
   "cell_type": "code",
   "execution_count": null,
   "metadata": {},
   "outputs": [
    {
     "name": "stdout",
     "output_type": "stream",
     "text": [
      "Test Accuracy: 0.9684\n",
      "Tree Depth: 4 | Number of Leaves: 9\n"
     ]
    }
   ],
   "source": [
    "X = df.drop(\"loan_status\", axis=1)\n",
    "y = df[\"loan_status\"]\n",
    "\n",
    "# 80% training, 20% testing\n",
    "X_train, X_test, y_train, y_test = train_test_split(X, y, test_size=0.2, random_state=42, shuffle=True, stratify=y)\n",
    "\n",
    "clf = DecisionTreeClassifier(\n",
    "    criterion=\"entropy\",\n",
    "    max_depth=4,              # Try values: None, 3, 5, 10, etc.\n",
    "    min_samples_split=10,     # Prevent overfitting\n",
    "    min_samples_leaf=5,       # Minimum samples in a leaf\n",
    "    min_impurity_decrease=0.001,\n",
    "    # max_features=\"sqrt\",\n",
    "    random_state=42\n",
    ")\n",
    "clf.fit(X_train, y_train)\n",
    "\n",
    "y_pred = clf.predict(X_test)\n",
    "accuracy = accuracy_score(y_test, y_pred)\n",
    "\n",
    "\n",
    "depth = clf.get_depth()\n",
    "print(f\"Test Accuracy: {accuracy:.4f}\")\n",
    "print(f\"Tree Depth: {depth} | Number of Leaves: {clf.get_n_leaves()}\")"
   ]
  },
  {
   "cell_type": "code",
   "execution_count": null,
   "metadata": {},
   "outputs": [
    {
     "ename": "InvalidParameterError",
     "evalue": "The 'feature_names' parameter of plot_tree must be an instance of 'list' or None. Got Index(['no_of_dependents', 'education', 'self_employed', 'income_annum',\n       'loan_amount', 'loan_term', 'cibil_score', 'residential_assets_value',\n       'commercial_assets_value', 'luxury_assets_value', 'bank_asset_value'],\n      dtype='object') instead.",
     "output_type": "error",
     "traceback": [
      "\u001b[1;31m---------------------------------------------------------------------------\u001b[0m",
      "\u001b[1;31mInvalidParameterError\u001b[0m                     Traceback (most recent call last)",
      "Cell \u001b[1;32mIn[10], line 2\u001b[0m\n\u001b[0;32m      1\u001b[0m plt\u001b[38;5;241m.\u001b[39mfigure(figsize\u001b[38;5;241m=\u001b[39m(\u001b[38;5;241m40\u001b[39m, \u001b[38;5;241m20\u001b[39m), dpi\u001b[38;5;241m=\u001b[39m\u001b[38;5;241m300\u001b[39m)\n\u001b[1;32m----> 2\u001b[0m \u001b[43mplot_tree\u001b[49m\u001b[43m(\u001b[49m\n\u001b[0;32m      3\u001b[0m \u001b[43m    \u001b[49m\u001b[43mclf\u001b[49m\u001b[43m,\u001b[49m\n\u001b[0;32m      4\u001b[0m \u001b[43m    \u001b[49m\u001b[43mfeature_names\u001b[49m\u001b[38;5;241;43m=\u001b[39;49m\u001b[43mX\u001b[49m\u001b[38;5;241;43m.\u001b[39;49m\u001b[43mcolumns\u001b[49m\u001b[43m,\u001b[49m\n\u001b[0;32m      5\u001b[0m \u001b[43m    \u001b[49m\u001b[43mclass_names\u001b[49m\u001b[38;5;241;43m=\u001b[39;49m\u001b[43mclass_names\u001b[49m\u001b[43m,\u001b[49m\n\u001b[0;32m      6\u001b[0m \u001b[43m    \u001b[49m\u001b[43mfilled\u001b[49m\u001b[38;5;241;43m=\u001b[39;49m\u001b[38;5;28;43;01mTrue\u001b[39;49;00m\u001b[43m,\u001b[49m\n\u001b[0;32m      7\u001b[0m \u001b[43m    \u001b[49m\u001b[43mrounded\u001b[49m\u001b[38;5;241;43m=\u001b[39;49m\u001b[38;5;28;43;01mTrue\u001b[39;49;00m\u001b[43m,\u001b[49m\n\u001b[0;32m      8\u001b[0m \u001b[43m    \u001b[49m\u001b[43mimpurity\u001b[49m\u001b[38;5;241;43m=\u001b[39;49m\u001b[38;5;28;43;01mFalse\u001b[39;49;00m\u001b[43m,\u001b[49m\n\u001b[0;32m      9\u001b[0m \u001b[43m    \u001b[49m\u001b[43mlabel\u001b[49m\u001b[38;5;241;43m=\u001b[39;49m\u001b[38;5;124;43m\"\u001b[39;49m\u001b[38;5;124;43mroot\u001b[39;49m\u001b[38;5;124;43m\"\u001b[39;49m\n\u001b[0;32m     10\u001b[0m \u001b[43m)\u001b[49m\n\u001b[0;32m     11\u001b[0m plt\u001b[38;5;241m.\u001b[39msavefig(\u001b[38;5;124m\"\u001b[39m\u001b[38;5;124mTrees/decision_tree_rule_loan.png\u001b[39m\u001b[38;5;124m\"\u001b[39m, bbox_inches\u001b[38;5;241m=\u001b[39m\u001b[38;5;124m\"\u001b[39m\u001b[38;5;124mtight\u001b[39m\u001b[38;5;124m\"\u001b[39m)\n\u001b[0;32m     12\u001b[0m \u001b[38;5;66;03m# plt.close()\u001b[39;00m\n",
      "File \u001b[1;32mc:\\ProgramData\\anaconda3\\Lib\\site-packages\\sklearn\\utils\\_param_validation.py:201\u001b[0m, in \u001b[0;36mvalidate_params.<locals>.decorator.<locals>.wrapper\u001b[1;34m(*args, **kwargs)\u001b[0m\n\u001b[0;32m    198\u001b[0m to_ignore \u001b[38;5;241m+\u001b[39m\u001b[38;5;241m=\u001b[39m [\u001b[38;5;124m\"\u001b[39m\u001b[38;5;124mself\u001b[39m\u001b[38;5;124m\"\u001b[39m, \u001b[38;5;124m\"\u001b[39m\u001b[38;5;124mcls\u001b[39m\u001b[38;5;124m\"\u001b[39m]\n\u001b[0;32m    199\u001b[0m params \u001b[38;5;241m=\u001b[39m {k: v \u001b[38;5;28;01mfor\u001b[39;00m k, v \u001b[38;5;129;01min\u001b[39;00m params\u001b[38;5;241m.\u001b[39marguments\u001b[38;5;241m.\u001b[39mitems() \u001b[38;5;28;01mif\u001b[39;00m k \u001b[38;5;129;01mnot\u001b[39;00m \u001b[38;5;129;01min\u001b[39;00m to_ignore}\n\u001b[1;32m--> 201\u001b[0m \u001b[43mvalidate_parameter_constraints\u001b[49m\u001b[43m(\u001b[49m\n\u001b[0;32m    202\u001b[0m \u001b[43m    \u001b[49m\u001b[43mparameter_constraints\u001b[49m\u001b[43m,\u001b[49m\u001b[43m \u001b[49m\u001b[43mparams\u001b[49m\u001b[43m,\u001b[49m\u001b[43m \u001b[49m\u001b[43mcaller_name\u001b[49m\u001b[38;5;241;43m=\u001b[39;49m\u001b[43mfunc\u001b[49m\u001b[38;5;241;43m.\u001b[39;49m\u001b[38;5;18;43m__qualname__\u001b[39;49m\n\u001b[0;32m    203\u001b[0m \u001b[43m\u001b[49m\u001b[43m)\u001b[49m\n\u001b[0;32m    205\u001b[0m \u001b[38;5;28;01mtry\u001b[39;00m:\n\u001b[0;32m    206\u001b[0m     \u001b[38;5;28;01mwith\u001b[39;00m config_context(\n\u001b[0;32m    207\u001b[0m         skip_parameter_validation\u001b[38;5;241m=\u001b[39m(\n\u001b[0;32m    208\u001b[0m             prefer_skip_nested_validation \u001b[38;5;129;01mor\u001b[39;00m global_skip_validation\n\u001b[0;32m    209\u001b[0m         )\n\u001b[0;32m    210\u001b[0m     ):\n",
      "File \u001b[1;32mc:\\ProgramData\\anaconda3\\Lib\\site-packages\\sklearn\\utils\\_param_validation.py:95\u001b[0m, in \u001b[0;36mvalidate_parameter_constraints\u001b[1;34m(parameter_constraints, params, caller_name)\u001b[0m\n\u001b[0;32m     89\u001b[0m \u001b[38;5;28;01melse\u001b[39;00m:\n\u001b[0;32m     90\u001b[0m     constraints_str \u001b[38;5;241m=\u001b[39m (\n\u001b[0;32m     91\u001b[0m         \u001b[38;5;124mf\u001b[39m\u001b[38;5;124m\"\u001b[39m\u001b[38;5;132;01m{\u001b[39;00m\u001b[38;5;124m'\u001b[39m\u001b[38;5;124m, \u001b[39m\u001b[38;5;124m'\u001b[39m\u001b[38;5;241m.\u001b[39mjoin([\u001b[38;5;28mstr\u001b[39m(c)\u001b[38;5;250m \u001b[39m\u001b[38;5;28;01mfor\u001b[39;00m\u001b[38;5;250m \u001b[39mc\u001b[38;5;250m \u001b[39m\u001b[38;5;129;01min\u001b[39;00m\u001b[38;5;250m \u001b[39mconstraints[:\u001b[38;5;241m-\u001b[39m\u001b[38;5;241m1\u001b[39m]])\u001b[38;5;132;01m}\u001b[39;00m\u001b[38;5;124m or\u001b[39m\u001b[38;5;124m\"\u001b[39m\n\u001b[0;32m     92\u001b[0m         \u001b[38;5;124mf\u001b[39m\u001b[38;5;124m\"\u001b[39m\u001b[38;5;124m \u001b[39m\u001b[38;5;132;01m{\u001b[39;00mconstraints[\u001b[38;5;241m-\u001b[39m\u001b[38;5;241m1\u001b[39m]\u001b[38;5;132;01m}\u001b[39;00m\u001b[38;5;124m\"\u001b[39m\n\u001b[0;32m     93\u001b[0m     )\n\u001b[1;32m---> 95\u001b[0m \u001b[38;5;28;01mraise\u001b[39;00m InvalidParameterError(\n\u001b[0;32m     96\u001b[0m     \u001b[38;5;124mf\u001b[39m\u001b[38;5;124m\"\u001b[39m\u001b[38;5;124mThe \u001b[39m\u001b[38;5;132;01m{\u001b[39;00mparam_name\u001b[38;5;132;01m!r}\u001b[39;00m\u001b[38;5;124m parameter of \u001b[39m\u001b[38;5;132;01m{\u001b[39;00mcaller_name\u001b[38;5;132;01m}\u001b[39;00m\u001b[38;5;124m must be\u001b[39m\u001b[38;5;124m\"\u001b[39m\n\u001b[0;32m     97\u001b[0m     \u001b[38;5;124mf\u001b[39m\u001b[38;5;124m\"\u001b[39m\u001b[38;5;124m \u001b[39m\u001b[38;5;132;01m{\u001b[39;00mconstraints_str\u001b[38;5;132;01m}\u001b[39;00m\u001b[38;5;124m. Got \u001b[39m\u001b[38;5;132;01m{\u001b[39;00mparam_val\u001b[38;5;132;01m!r}\u001b[39;00m\u001b[38;5;124m instead.\u001b[39m\u001b[38;5;124m\"\u001b[39m\n\u001b[0;32m     98\u001b[0m )\n",
      "\u001b[1;31mInvalidParameterError\u001b[0m: The 'feature_names' parameter of plot_tree must be an instance of 'list' or None. Got Index(['no_of_dependents', 'education', 'self_employed', 'income_annum',\n       'loan_amount', 'loan_term', 'cibil_score', 'residential_assets_value',\n       'commercial_assets_value', 'luxury_assets_value', 'bank_asset_value'],\n      dtype='object') instead."
     ]
    },
    {
     "data": {
      "text/plain": [
       "<Figure size 12000x6000 with 0 Axes>"
      ]
     },
     "metadata": {},
     "output_type": "display_data"
    }
   ],
   "source": [
    "plt.figure(figsize=(40, 20), dpi=300)\n",
    "plot_tree(\n",
    "    clf,\n",
    "    feature_names=X.columns,\n",
    "    class_names=class_names,\n",
    "    filled=True,\n",
    "    rounded=True,\n",
    "    impurity=False,\n",
    "    label=\"root\"\n",
    ")\n",
    "plt.savefig(\"Trees/decision_tree_rule_loan.png\", bbox_inches=\"tight\")\n",
    "# plt.close()\n"
   ]
  },
  {
   "cell_type": "code",
   "execution_count": null,
   "metadata": {},
   "outputs": [],
   "source": [
    "tree_rules = export_text(clf, feature_names=list(X.columns), max_depth=depth+5, decimals=5)\n",
    "# print(rules)\n",
    "# Write rules to a file\n",
    "with open(\"Rules/loan_rules.txt\", \"w\") as f:\n",
    "    f.write(tree_rules)"
   ]
  },
  {
   "cell_type": "code",
   "execution_count": null,
   "metadata": {},
   "outputs": [
    {
     "name": "stdout",
     "output_type": "stream",
     "text": [
      "from experta import *\n",
      "\n",
      "class LoanExpert(KnowledgeEngine):\n",
      "    def __init__(self):\n",
      "        super().__init__()\n",
      "        self.prediction = None\n",
      "\n",
      "    @Rule(Fact(cibil_score=P(lambda x: x <= 0.41583), loan_term=P(lambda x: x <= 0.16667), loan_amount=P(lambda x: x <= 0.66199), income_annum=P(lambda x: x <= 0.7268)))\n",
      "    def rule_0(self):\n",
      "        # print(f\"Rule 0: Loan Status: Approved\")\n",
      "        self.prediction = 0\n",
      "\n",
      "    @Rule(Fact(cibil_score=P(lambda x: x <= 0.41583), loan_term=P(lambda x: x <= 0.16667), loan_amount=P(lambda x: x <= 0.66199), income_annum=P(lambda x: x > 0.7268)))\n",
      "    def rule_1(self):\n",
      "        # print(f\"Rule 1: Loan Status: Rejected\")\n",
      "        self.prediction = 1\n",
      "\n",
      "    @Rule(Fact(cibil_score=P(lambda x: x <= 0.41583), loan_term=P(lambda x: x <= 0.16667), loan_amount=P(lambda x: x > 0.66199), income_annum=P(lambda x: x <= 0.97423)))\n",
      "    def rule_2(self):\n",
      "        # print(f\"Rule 2: Loan Status: Approved\")\n",
      "        self.prediction = 0\n",
      "\n",
      "    @Rule(Fact(cibil_score=P(lambda x: x <= 0.41583), loan_term=P(lambda x: x <= 0.16667), loan_amount=P(lambda x: x > 0.66199), income_annum=P(lambda x: x > 0.97423)))\n",
      "    def rule_3(self):\n",
      "        # print(f\"Rule 3: Loan Status: Approved\")\n",
      "        self.prediction = 0\n",
      "\n",
      "    @Rule(Fact(cibil_score=P(lambda x: x <= 0.41583), loan_term=P(lambda x: x > 0.16667)))\n",
      "    def rule_4(self):\n",
      "        # print(f\"Rule 4: Loan Status: Rejected\")\n",
      "        self.prediction = 1\n",
      "\n",
      "    @Rule(Fact(cibil_score=P(lambda x: x > 0.41583), residential_assets_value=P(lambda x: x <= 0.03938), commercial_assets_value=P(lambda x: x <= 0.09536), loan_amount=P(lambda x: x <= 0.11352)))\n",
      "    def rule_5(self):\n",
      "        # print(f\"Rule 5: Loan Status: Approved\")\n",
      "        self.prediction = 0\n",
      "\n",
      "    @Rule(Fact(cibil_score=P(lambda x: x > 0.41583), residential_assets_value=P(lambda x: x <= 0.03938), commercial_assets_value=P(lambda x: x <= 0.09536), loan_amount=P(lambda x: x > 0.11352)))\n",
      "    def rule_6(self):\n",
      "        # print(f\"Rule 6: Loan Status: Approved\")\n",
      "        self.prediction = 0\n",
      "\n",
      "    @Rule(Fact(cibil_score=P(lambda x: x > 0.41583), residential_assets_value=P(lambda x: x <= 0.03938), commercial_assets_value=P(lambda x: x > 0.09536)))\n",
      "    def rule_7(self):\n",
      "        # print(f\"Rule 7: Loan Status: Approved\")\n",
      "        self.prediction = 0\n",
      "\n",
      "    @Rule(Fact(cibil_score=P(lambda x: x > 0.41583), residential_assets_value=P(lambda x: x > 0.03938)))\n",
      "    def rule_8(self):\n",
      "        # print(f\"Rule 8: Loan Status: Approved\")\n",
      "        self.prediction = 0\n",
      "\n"
     ]
    }
   ],
   "source": [
    "# Parse and convert\n",
    "rules = []\n",
    "rule_count = 0\n",
    "stack = []\n",
    "\n",
    "for line in tree_rules.split(\"\\n\"):\n",
    "    indent_level = line.count(\"|   \")\n",
    "    line = line.strip()\n",
    "\n",
    "    # Remove tree symbols\n",
    "    line = re.sub(r\"\\|--- \", \"\", line)\n",
    "    line = line.replace(\"|   \", \"\")\n",
    "\n",
    "    if line.startswith(\"class:\"):\n",
    "        class_val = int(float(line.split(\":\")[1].strip()))\n",
    "        class_label = label_map[class_val]\n",
    "        # Build final rule from stack\n",
    "        conditions = stack[:indent_level]\n",
    "        condition_str = \", \".join(conditions)\n",
    "        rule_code = f\"\"\"    @Rule(Fact({condition_str}))\n",
    "    def rule_{rule_count}(self):\n",
    "        # print(f\"Rule {rule_count}: Loan Status: {class_label}\")\n",
    "        self.prediction = {0 if class_label == \"Approved\" else 1}\\n\"\"\"\n",
    "        rules.append(rule_code)\n",
    "        rule_count += 1\n",
    "    elif \"<=\" in line or \">\" in line:\n",
    "        op = \"<=\" if \" <= \" in line else \">\"\n",
    "        feature, op_val = line.split(op)\n",
    "        val = float(op_val.strip())\n",
    "        stack = stack[:indent_level] + [f\"{feature.strip()}=P(lambda x: x {op} {val})\"]\n",
    "\n",
    "# Output rules\n",
    "print(\"\"\"from experta import *\\n\\nclass LoanExpert(KnowledgeEngine):\n",
    "    def __init__(self):\n",
    "        super().__init__()\n",
    "        self.prediction = None\\n\"\"\")\n",
    "for r in rules:\n",
    "    print(r)\n"
   ]
  },
  {
   "cell_type": "code",
   "execution_count": null,
   "metadata": {},
   "outputs": [],
   "source": [
    "from experta import *\n",
    "\n",
    "class LoanExpert(KnowledgeEngine):\n",
    "    def __init__(self):\n",
    "        super().__init__()\n",
    "        self.prediction = None\n",
    "\n",
    "    @Rule(Fact(cibil_score=P(lambda x: x <= 0.41583), loan_term=P(lambda x: x <= 0.16667), loan_amount=P(lambda x: x <= 0.66199), income_annum=P(lambda x: x <= 0.7268)))\n",
    "    def rule_0(self):\n",
    "        # print(f\"Rule 0: Loan Status: Approved\")\n",
    "        self.prediction = 0\n",
    "\n",
    "    @Rule(Fact(cibil_score=P(lambda x: x <= 0.41583), loan_term=P(lambda x: x <= 0.16667), loan_amount=P(lambda x: x <= 0.66199), income_annum=P(lambda x: x > 0.7268)))\n",
    "    def rule_1(self):\n",
    "        # print(f\"Rule 1: Loan Status: Rejected\")\n",
    "        self.prediction = 1\n",
    "\n",
    "    @Rule(Fact(cibil_score=P(lambda x: x <= 0.41583), loan_term=P(lambda x: x <= 0.16667), loan_amount=P(lambda x: x > 0.66199), income_annum=P(lambda x: x <= 0.97423)))\n",
    "    def rule_2(self):\n",
    "        # print(f\"Rule 2: Loan Status: Approved\")\n",
    "        self.prediction = 0\n",
    "\n",
    "    @Rule(Fact(cibil_score=P(lambda x: x <= 0.41583), loan_term=P(lambda x: x <= 0.16667), loan_amount=P(lambda x: x > 0.66199), income_annum=P(lambda x: x > 0.97423)))\n",
    "    def rule_3(self):\n",
    "        # print(f\"Rule 3: Loan Status: Approved\")\n",
    "        self.prediction = 0\n",
    "\n",
    "    @Rule(Fact(cibil_score=P(lambda x: x <= 0.41583), loan_term=P(lambda x: x > 0.16667)))\n",
    "    def rule_4(self):\n",
    "        # print(f\"Rule 4: Loan Status: Rejected\")\n",
    "        self.prediction = 1\n",
    "\n",
    "    @Rule(Fact(cibil_score=P(lambda x: x > 0.41583), residential_assets_value=P(lambda x: x <= 0.03938), commercial_assets_value=P(lambda x: x <= 0.09536), loan_amount=P(lambda x: x <= 0.11352)))\n",
    "    def rule_5(self):\n",
    "        # print(f\"Rule 5: Loan Status: Approved\")\n",
    "        self.prediction = 0\n",
    "\n",
    "    @Rule(Fact(cibil_score=P(lambda x: x > 0.41583), residential_assets_value=P(lambda x: x <= 0.03938), commercial_assets_value=P(lambda x: x <= 0.09536), loan_amount=P(lambda x: x > 0.11352)))\n",
    "    def rule_6(self):\n",
    "        # print(f\"Rule 6: Loan Status: Approved\")\n",
    "        self.prediction = 0\n",
    "\n",
    "    @Rule(Fact(cibil_score=P(lambda x: x > 0.41583), residential_assets_value=P(lambda x: x <= 0.03938), commercial_assets_value=P(lambda x: x > 0.09536)))\n",
    "    def rule_7(self):\n",
    "        # print(f\"Rule 7: Loan Status: Approved\")\n",
    "        self.prediction = 0\n",
    "\n",
    "    @Rule(Fact(cibil_score=P(lambda x: x > 0.41583), residential_assets_value=P(lambda x: x > 0.03938)))\n",
    "    def rule_8(self):\n",
    "        # print(f\"Rule 8: Loan Status: Approved\")\n",
    "        self.prediction = 0"
   ]
  },
  {
   "cell_type": "code",
   "execution_count": null,
   "metadata": {},
   "outputs": [
    {
     "name": "stdout",
     "output_type": "stream",
     "text": [
      "0\n"
     ]
    }
   ],
   "source": [
    "# Testing on one example\n",
    "\n",
    "user_input = {\n",
    "    \"no_of_dependents\": 4,\n",
    "    \"education\": 0,\n",
    "    \"self_employed\": 0,\n",
    "    \"income_annum\": 7000000,\n",
    "    \"loan_amount\": 10,\n",
    "    \"loan_term\": 5,\n",
    "    \"cibil_score\": 12,\n",
    "    \"residential_assets_value\": 200000,\n",
    "    \"commercial_assets_value\": 1500000,\n",
    "    \"luxury_assets_value\": 22700000,\n",
    "    \"bank_asset_value\": 8000000\n",
    "}\n",
    "# Convert to DataFrame to transform\n",
    "input_df = pd.DataFrame([user_input])\n",
    "normalized_input = mx.transform(input_df)[0]  # 1D array\n",
    "normalized_fact = dict(zip(df.columns, normalized_input))\n",
    "\n",
    "\n",
    "# normalized_fact = {\n",
    "# \"no_of_dependents\":            0.600000,\n",
    "# \"education\":                   1.000000,\n",
    "# \"self_employed\":               1.000000,\n",
    "# \"income_annum\":                0.237113,\n",
    "# \"loan_amount\":                 0.216837,\n",
    "# \"loan_term\":                   0.555556,\n",
    "# \"cibil_score\":                 0.396667,\n",
    "# \"residential_assets_value\":    0.171233,\n",
    "# \"commercial_assets_value\":     0.092784,\n",
    "# \"luxury_assets_value\":         0.226221,\n",
    "# \"bank_asset_value\":            0.224490,\n",
    "# }\n",
    "\n",
    "engine = LoanExpert()\n",
    "engine.reset()\n",
    "engine.declare(Fact(**normalized_fact))\n",
    "engine.run()\n",
    "print(engine.prediction)\n"
   ]
  },
  {
   "cell_type": "code",
   "execution_count": null,
   "metadata": {},
   "outputs": [
    {
     "name": "stdout",
     "output_type": "stream",
     "text": [
      "Accuracy on test set: 96.8384074941452%\n"
     ]
    }
   ],
   "source": [
    "from sklearn.metrics import f1_score, confusion_matrix, classification_report, precision_score, recall_score\n",
    "\n",
    "y_pred_rule = []\n",
    "\n",
    "for i, row in X_test.iterrows():\n",
    "    # Run inference using your rule engine\n",
    "    engine = LoanExpert()\n",
    "    engine.reset()\n",
    "    engine.declare(Fact(**row))\n",
    "    engine.run()\n",
    "    if engine.prediction is None:\n",
    "        print(\"No rule matched for:\", row)\n",
    "    # Append predicted label (assume it's stored in engine.prediction)\n",
    "    y_pred_rule.append(engine.prediction)\n",
    "\n",
    "y_pred_tree = clf.predict(X_test)\n",
    "# Compute accuracy\n",
    "print(f\"Accuracy on test set: {accuracy_score(y_test, y_pred_rule) * 100}%\")\n",
    "# Compute F1 score\n",
    "print(f\"F1 Score: {f1_score(y_test, y_pred_rule):.4f}\")\n",
    "# Compute precision and recall\n",
    "print(f\"Precision: {precision_score(y_test, y_pred_rule):.4f}\")\n",
    "print(f\"Recall: {recall_score(y_test, y_pred_rule):.4f}\")\n"
   ]
  }
 ],
 "metadata": {
  "kernelspec": {
   "display_name": "Python 3",
   "language": "python",
   "name": "python3"
  },
  "language_info": {
   "codemirror_mode": {
    "name": "ipython",
    "version": 3
   },
   "file_extension": ".py",
   "mimetype": "text/x-python",
   "name": "python",
   "nbconvert_exporter": "python",
   "pygments_lexer": "ipython3",
   "version": "3.9.2"
  }
 },
 "nbformat": 4,
 "nbformat_minor": 2
}
