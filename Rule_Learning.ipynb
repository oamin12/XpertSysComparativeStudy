{
 "cells": [
  {
   "cell_type": "code",
   "execution_count": null,
   "metadata": {},
   "outputs": [],
   "source": [
    "# !pip install experta"
   ]
  },
  {
   "cell_type": "code",
   "execution_count": null,
   "metadata": {},
   "outputs": [],
   "source": [
    "import pandas as pd\n",
    "import pickle as pkl\n",
    "from sklearn.preprocessing import LabelEncoder\n",
    "from sklearn.tree import DecisionTreeClassifier\n",
    "import matplotlib.pyplot as plt\n",
    "from sklearn.tree import plot_tree\n",
    "\n",
    "\n",
    "dataset = \"Loan-Approval-Prediction-Dataset/loan_approval_dataset.csv\"\n",
    "df = pd.read_csv('datasets/'+dataset)\n",
    "print(len(df))"
   ]
  },
  {
   "cell_type": "code",
   "execution_count": 2,
   "metadata": {},
   "outputs": [],
   "source": [
    "# Remove leading and trailing spaces from column names\n",
    "df.columns = df.columns.str.strip()"
   ]
  },
  {
   "cell_type": "code",
   "execution_count": null,
   "metadata": {},
   "outputs": [],
   "source": [
    "df.head()"
   ]
  },
  {
   "cell_type": "code",
   "execution_count": null,
   "metadata": {},
   "outputs": [],
   "source": [
    "df.info()"
   ]
  },
  {
   "cell_type": "code",
   "execution_count": null,
   "metadata": {},
   "outputs": [],
   "source": [
    "df.isnull().sum().sum()"
   ]
  },
  {
   "cell_type": "code",
   "execution_count": null,
   "metadata": {},
   "outputs": [],
   "source": [
    "print(f\"loan_status: {df['loan_status'].value_counts()}\")\n",
    "# Encode categorical data\n",
    "le = LabelEncoder()\n",
    "for col in df.columns:\n",
    "    if df[col].dtype == 'object':\n",
    "        df[col] = le.fit_transform(df[col].astype(str))\n",
    "class_names = ['Approved', 'Rejected']\n",
    "print(f\"loan_status: {df['loan_status'].value_counts()}\")\n",
    "\n",
    "# Step 2: Define label mapping\n",
    "label_map = {0: \"Approved\", 1: \"Rejected\"}  # Based on your LabelEncoder"
   ]
  },
  {
   "cell_type": "code",
   "execution_count": null,
   "metadata": {},
   "outputs": [],
   "source": [
    "from sklearn.model_selection import train_test_split\n",
    "from sklearn.metrics import accuracy_score\n",
    "X = df.drop(\"loan_status\", axis=1)\n",
    "y = df[\"loan_status\"]\n",
    "\n",
    "# 80% training, 20% testing\n",
    "X_train, X_test, y_train, y_test = train_test_split(X, y, test_size=0.2, random_state=42)\n",
    "\n",
    "clf = DecisionTreeClassifier(\n",
    "    criterion=\"entropy\",\n",
    "    max_depth=5,              # Try values: None, 3, 5, 10, etc.\n",
    "    min_samples_split=10,     # Prevent overfitting\n",
    "    min_samples_leaf=5,       # Minimum samples in a leaf\n",
    "    # min_impurity_decrease=0.01,\n",
    "    random_state=42\n",
    ")\n",
    "clf.fit(X_train, y_train)\n",
    "\n",
    "y_pred = clf.predict(X_test)\n",
    "accuracy = accuracy_score(y_test, y_pred)\n",
    "\n",
    "\n",
    "depth = clf.get_depth()\n",
    "print(f\"Test Accuracy: {accuracy:.4f}\")\n",
    "print(f\"Tree Depth: {depth} | Number of Leaves: {clf.get_n_leaves()}\")"
   ]
  },
  {
   "cell_type": "code",
   "execution_count": null,
   "metadata": {},
   "outputs": [],
   "source": [
    "import matplotlib.pyplot as plt\n",
    "from sklearn.tree import plot_tree\n",
    "\n",
    "plt.figure(figsize=(40, 20), dpi=300)\n",
    "plot_tree(\n",
    "    clf,\n",
    "    feature_names=X.columns,\n",
    "    class_names=class_names,\n",
    "    filled=True,\n",
    "    impurity=False,\n",
    "    label=\"root\"\n",
    ")\n",
    "plt.savefig(\"decision_tree_simple.png\", bbox_inches=\"tight\")\n",
    "# plt.close()\n"
   ]
  },
  {
   "cell_type": "code",
   "execution_count": 9,
   "metadata": {},
   "outputs": [],
   "source": [
    "from sklearn.tree import export_text\n",
    "\n",
    "rules = export_text(clf, feature_names=list(X.columns), max_depth=depth+5)\n",
    "# print(rules)\n",
    "# Write rules to a file\n",
    "with open(\"rules.txt\", \"w\") as f:\n",
    "    f.write(rules)\n"
   ]
  },
  {
   "cell_type": "code",
   "execution_count": null,
   "metadata": {},
   "outputs": [],
   "source": [
    "from sklearn.tree import export_text\n",
    "import re\n",
    "\n",
    "# Step 1: Get the raw rules\n",
    "tree_rules = export_text(clf, feature_names=list(X.columns))\n",
    "\n",
    "# Step 2: Define label mapping\n",
    "# Done above when encoding the data\n",
    "\n",
    "# Step 3: Parse and convert\n",
    "rules = []\n",
    "rule_count = 0\n",
    "stack = []\n",
    "\n",
    "for line in tree_rules.split(\"\\n\"):\n",
    "    indent_level = line.count(\"|   \")\n",
    "    line = line.strip()\n",
    "\n",
    "    # Remove tree symbols\n",
    "    line = re.sub(r\"\\|--- \", \"\", line)\n",
    "    line = line.replace(\"|   \", \"\")\n",
    "\n",
    "    if line.startswith(\"class:\"):\n",
    "        class_val = int(line.split(\":\")[1].strip())\n",
    "        class_label = label_map[class_val]\n",
    "        # Build final rule from stack\n",
    "        conditions = stack[:indent_level]\n",
    "        condition_str = \", \".join(conditions)\n",
    "        rule_code = f\"\"\"    @Rule(Fact({condition_str}))\n",
    "    def rule_{rule_count}(self):\n",
    "        print(\"Loan Status: {class_label}\")\\n\"\"\"\n",
    "        rules.append(rule_code)\n",
    "        rule_count += 1\n",
    "    elif \"<=\" in line or \">\" in line:       # hne7tag n8yrha lw fyha 7aga 8eir <= w >, zy >= aw <\n",
    "        op = \"<=\" if \" <= \" in line else \">\"\n",
    "        feature, op_val = line.split(op)\n",
    "        val = float(op_val.strip())\n",
    "        stack = stack[:indent_level] + [f\"{feature.strip()}=P(lambda x: x {op} {val})\"]\n",
    "\n",
    "# Step 4: Output rules\n",
    "# print(\"from experta import *\\n\\nclass LoanExpert(KnowledgeEngine):\")\n",
    "for r in rules:\n",
    "    print(r)\n"
   ]
  },
  {
   "cell_type": "code",
   "execution_count": null,
   "metadata": {},
   "outputs": [],
   "source": [
    "from experata import *\n",
    "\n",
    "class LoanApprovalExpert(KnowledgeEngine):\n",
    "    @Rule(Fact(cibil_score=P(lambda x: x <= 549.5), loan_term=P(lambda x: x <= 5.0), loan_amount=P(lambda x: x <= 26250000.0), income_annum=P(lambda x: x <= 8050000.0), loan_amount=P(lambda x: x <= 18400000.0)))\n",
    "    def rule_0(self):\n",
    "        print(\"Loan Status: Rejected\")\n",
    "\n",
    "    @Rule(Fact(cibil_score=P(lambda x: x <= 549.5), loan_term=P(lambda x: x <= 5.0), loan_amount=P(lambda x: x <= 26250000.0), income_annum=P(lambda x: x <= 8050000.0), loan_amount=P(lambda x: x > 18400000.0)))\n",
    "    def rule_1(self):\n",
    "        print(\"Loan Status: Approved\")\n",
    "\n",
    "    @Rule(Fact(cibil_score=P(lambda x: x <= 549.5), loan_term=P(lambda x: x <= 5.0), loan_amount=P(lambda x: x <= 26250000.0), income_annum=P(lambda x: x > 8050000.0)))\n",
    "    def rule_2(self):\n",
    "        print(\"Loan Status: Rejected\")\n",
    "\n",
    "    @Rule(Fact(cibil_score=P(lambda x: x <= 549.5), loan_term=P(lambda x: x <= 5.0), loan_amount=P(lambda x: x > 26250000.0), income_annum=P(lambda x: x <= 9650000.0)))\n",
    "    def rule_3(self):\n",
    "        print(\"Loan Status: Approved\")\n",
    "\n",
    "    @Rule(Fact(cibil_score=P(lambda x: x <= 549.5), loan_term=P(lambda x: x <= 5.0), loan_amount=P(lambda x: x > 26250000.0), income_annum=P(lambda x: x > 9650000.0)))\n",
    "    def rule_4(self):\n",
    "        print(\"Loan Status: Approved\")\n",
    "\n",
    "    @Rule(Fact(cibil_score=P(lambda x: x <= 549.5), loan_term=P(lambda x: x > 5.0)))\n",
    "    def rule_5(self):\n",
    "        print(\"Loan Status: Rejected\")\n",
    "\n",
    "    @Rule(Fact(cibil_score=P(lambda x: x > 549.5), residential_assets_value=P(lambda x: x <= 950000.0), commercial_assets_value=P(lambda x: x <= 1850000.0), loan_amount=P(lambda x: x <= 3100000.0), residential_assets_value=P(lambda x: x <= 150000.0)))\n",
    "    def rule_6(self):\n",
    "        print(\"Loan Status: Approved\")\n",
    "\n",
    "    @Rule(Fact(cibil_score=P(lambda x: x > 549.5), residential_assets_value=P(lambda x: x <= 950000.0), commercial_assets_value=P(lambda x: x <= 1850000.0), loan_amount=P(lambda x: x <= 3100000.0), residential_assets_value=P(lambda x: x > 150000.0)))\n",
    "    def rule_7(self):\n",
    "        print(\"Loan Status: Approved\")\n",
    "\n",
    "    @Rule(Fact(cibil_score=P(lambda x: x > 549.5), residential_assets_value=P(lambda x: x <= 950000.0), commercial_assets_value=P(lambda x: x <= 1850000.0), loan_amount=P(lambda x: x > 3100000.0), loan_id=P(lambda x: x <= 402.0)))\n",
    "    def rule_8(self):\n",
    "        print(\"Loan Status: Approved\")\n",
    "\n",
    "    @Rule(Fact(cibil_score=P(lambda x: x > 549.5), residential_assets_value=P(lambda x: x <= 950000.0), commercial_assets_value=P(lambda x: x <= 1850000.0), loan_amount=P(lambda x: x > 3100000.0), loan_id=P(lambda x: x > 402.0)))\n",
    "    def rule_9(self):\n",
    "        print(\"Loan Status: Approved\")\n",
    "\n",
    "    @Rule(Fact(cibil_score=P(lambda x: x > 549.5), residential_assets_value=P(lambda x: x <= 950000.0), commercial_assets_value=P(lambda x: x > 1850000.0)))\n",
    "    def rule_10(self):\n",
    "        print(\"Loan Status: Approved\")\n",
    "\n",
    "    @Rule(Fact(cibil_score=P(lambda x: x > 549.5), residential_assets_value=P(lambda x: x > 950000.0)))\n",
    "    def rule_11(self):\n",
    "        print(\"Loan Status: Approved\")\n"
   ]
  }
 ],
 "metadata": {
  "kernelspec": {
   "display_name": "base",
   "language": "python",
   "name": "python3"
  },
  "language_info": {
   "codemirror_mode": {
    "name": "ipython",
    "version": 3
   },
   "file_extension": ".py",
   "mimetype": "text/x-python",
   "name": "python",
   "nbconvert_exporter": "python",
   "pygments_lexer": "ipython3",
   "version": "3.12.4"
  }
 },
 "nbformat": 4,
 "nbformat_minor": 2
}
