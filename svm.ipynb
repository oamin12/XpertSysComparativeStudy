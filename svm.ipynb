{
 "cells": [
  {
   "cell_type": "markdown",
   "id": "d190abab",
   "metadata": {},
   "source": [
    "### SVM Model"
   ]
  },
  {
   "cell_type": "code",
   "execution_count": 1,
   "id": "36421581",
   "metadata": {},
   "outputs": [],
   "source": [
    "import numpy as np\n",
    "import matplotlib.pyplot as plt\n",
    "from sklearn.linear_model import LogisticRegression\n",
    "from sklearn.svm import SVC\n",
    "from sklearn.preprocessing import MinMaxScaler\n",
    "from sklearn.model_selection import train_test_split\n",
    "from sklearn.ensemble import RandomForestRegressor\n",
    "from sklearn.metrics import mean_squared_error\n",
    "from sklearn.tree import DecisionTreeClassifier, plot_tree\n",
    "from sklearn.metrics import accuracy_score, f1_score\n",
    "import pandas as pd\n",
    "import seaborn as sns"
   ]
  },
  {
   "cell_type": "code",
   "execution_count": 2,
   "id": "18866fac",
   "metadata": {},
   "outputs": [],
   "source": [
    "df = pd.read_csv('datasets\\Loan-Approval-Prediction-Dataset\\loan_approval_dataset.csv')"
   ]
  },
  {
   "cell_type": "code",
   "execution_count": 3,
   "id": "053de574",
   "metadata": {},
   "outputs": [
    {
     "name": "stdout",
     "output_type": "stream",
     "text": [
      "(4269, 13)\n"
     ]
    },
    {
     "data": {
      "text/html": [
       "<div>\n",
       "<style scoped>\n",
       "    .dataframe tbody tr th:only-of-type {\n",
       "        vertical-align: middle;\n",
       "    }\n",
       "\n",
       "    .dataframe tbody tr th {\n",
       "        vertical-align: top;\n",
       "    }\n",
       "\n",
       "    .dataframe thead th {\n",
       "        text-align: right;\n",
       "    }\n",
       "</style>\n",
       "<table border=\"1\" class=\"dataframe\">\n",
       "  <thead>\n",
       "    <tr style=\"text-align: right;\">\n",
       "      <th></th>\n",
       "      <th>no_of_dependents</th>\n",
       "      <th>education</th>\n",
       "      <th>self_employed</th>\n",
       "      <th>income_annum</th>\n",
       "      <th>loan_amount</th>\n",
       "      <th>loan_term</th>\n",
       "      <th>cibil_score</th>\n",
       "      <th>residential_assets_value</th>\n",
       "      <th>commercial_assets_value</th>\n",
       "      <th>luxury_assets_value</th>\n",
       "      <th>bank_asset_value</th>\n",
       "      <th>loan_status</th>\n",
       "    </tr>\n",
       "  </thead>\n",
       "  <tbody>\n",
       "    <tr>\n",
       "      <th>0</th>\n",
       "      <td>2</td>\n",
       "      <td>Graduate</td>\n",
       "      <td>No</td>\n",
       "      <td>9600000</td>\n",
       "      <td>29900000</td>\n",
       "      <td>12</td>\n",
       "      <td>778</td>\n",
       "      <td>2400000</td>\n",
       "      <td>17600000</td>\n",
       "      <td>22700000</td>\n",
       "      <td>8000000</td>\n",
       "      <td>Approved</td>\n",
       "    </tr>\n",
       "    <tr>\n",
       "      <th>1</th>\n",
       "      <td>0</td>\n",
       "      <td>Not Graduate</td>\n",
       "      <td>Yes</td>\n",
       "      <td>4100000</td>\n",
       "      <td>12200000</td>\n",
       "      <td>8</td>\n",
       "      <td>417</td>\n",
       "      <td>2700000</td>\n",
       "      <td>2200000</td>\n",
       "      <td>8800000</td>\n",
       "      <td>3300000</td>\n",
       "      <td>Rejected</td>\n",
       "    </tr>\n",
       "    <tr>\n",
       "      <th>2</th>\n",
       "      <td>3</td>\n",
       "      <td>Graduate</td>\n",
       "      <td>No</td>\n",
       "      <td>9100000</td>\n",
       "      <td>29700000</td>\n",
       "      <td>20</td>\n",
       "      <td>506</td>\n",
       "      <td>7100000</td>\n",
       "      <td>4500000</td>\n",
       "      <td>33300000</td>\n",
       "      <td>12800000</td>\n",
       "      <td>Rejected</td>\n",
       "    </tr>\n",
       "    <tr>\n",
       "      <th>3</th>\n",
       "      <td>3</td>\n",
       "      <td>Graduate</td>\n",
       "      <td>No</td>\n",
       "      <td>8200000</td>\n",
       "      <td>30700000</td>\n",
       "      <td>8</td>\n",
       "      <td>467</td>\n",
       "      <td>18200000</td>\n",
       "      <td>3300000</td>\n",
       "      <td>23300000</td>\n",
       "      <td>7900000</td>\n",
       "      <td>Rejected</td>\n",
       "    </tr>\n",
       "    <tr>\n",
       "      <th>4</th>\n",
       "      <td>5</td>\n",
       "      <td>Not Graduate</td>\n",
       "      <td>Yes</td>\n",
       "      <td>9800000</td>\n",
       "      <td>24200000</td>\n",
       "      <td>20</td>\n",
       "      <td>382</td>\n",
       "      <td>12400000</td>\n",
       "      <td>8200000</td>\n",
       "      <td>29400000</td>\n",
       "      <td>5000000</td>\n",
       "      <td>Rejected</td>\n",
       "    </tr>\n",
       "  </tbody>\n",
       "</table>\n",
       "</div>"
      ],
      "text/plain": [
       "   no_of_dependents      education self_employed  income_annum  loan_amount  \\\n",
       "0                 2       Graduate            No       9600000     29900000   \n",
       "1                 0   Not Graduate           Yes       4100000     12200000   \n",
       "2                 3       Graduate            No       9100000     29700000   \n",
       "3                 3       Graduate            No       8200000     30700000   \n",
       "4                 5   Not Graduate           Yes       9800000     24200000   \n",
       "\n",
       "   loan_term  cibil_score  residential_assets_value  commercial_assets_value  \\\n",
       "0         12          778                   2400000                 17600000   \n",
       "1          8          417                   2700000                  2200000   \n",
       "2         20          506                   7100000                  4500000   \n",
       "3          8          467                  18200000                  3300000   \n",
       "4         20          382                  12400000                  8200000   \n",
       "\n",
       "   luxury_assets_value  bank_asset_value loan_status  \n",
       "0             22700000           8000000    Approved  \n",
       "1              8800000           3300000    Rejected  \n",
       "2             33300000          12800000    Rejected  \n",
       "3             23300000           7900000    Rejected  \n",
       "4             29400000           5000000    Rejected  "
      ]
     },
     "execution_count": 3,
     "metadata": {},
     "output_type": "execute_result"
    }
   ],
   "source": [
    "print(df.shape)\n",
    "df.columns = df.columns.str.strip()\n",
    "# drop the 'Loan_ID' column as it is not useful for prediction\n",
    "df.drop(columns=['loan_id'], inplace=True)\n",
    "df.head()"
   ]
  },
  {
   "cell_type": "markdown",
   "id": "c11af069",
   "metadata": {},
   "source": [
    "## Factorization"
   ]
  },
  {
   "cell_type": "code",
   "execution_count": 4,
   "id": "632e715d",
   "metadata": {},
   "outputs": [
    {
     "name": "stdout",
     "output_type": "stream",
     "text": [
      "<class 'pandas.core.frame.DataFrame'>\n",
      "RangeIndex: 4269 entries, 0 to 4268\n",
      "Data columns (total 12 columns):\n",
      " #   Column                    Non-Null Count  Dtype \n",
      "---  ------                    --------------  ----- \n",
      " 0   no_of_dependents          4269 non-null   int64 \n",
      " 1   education                 4269 non-null   object\n",
      " 2   self_employed             4269 non-null   object\n",
      " 3   income_annum              4269 non-null   int64 \n",
      " 4   loan_amount               4269 non-null   int64 \n",
      " 5   loan_term                 4269 non-null   int64 \n",
      " 6   cibil_score               4269 non-null   int64 \n",
      " 7   residential_assets_value  4269 non-null   int64 \n",
      " 8   commercial_assets_value   4269 non-null   int64 \n",
      " 9   luxury_assets_value       4269 non-null   int64 \n",
      " 10  bank_asset_value          4269 non-null   int64 \n",
      " 11  loan_status               4269 non-null   object\n",
      "dtypes: int64(9), object(3)\n",
      "memory usage: 400.3+ KB\n"
     ]
    }
   ],
   "source": [
    "df.info()"
   ]
  },
  {
   "cell_type": "code",
   "execution_count": 5,
   "id": "949f77e3",
   "metadata": {},
   "outputs": [],
   "source": [
    "df[\"education\"] = pd.factorize(df[\"education\"])[0]\n",
    "df[\"self_employed\"] = pd.factorize(df[\"self_employed\"])[0]\n",
    "df[\"loan_status\"] = pd.factorize(df[\"loan_status\"])[0]"
   ]
  },
  {
   "cell_type": "markdown",
   "id": "648ebb42",
   "metadata": {},
   "source": [
    "## Normalization"
   ]
  },
  {
   "cell_type": "code",
   "execution_count": 6,
   "id": "bc146f1c",
   "metadata": {},
   "outputs": [],
   "source": [
    "mx = MinMaxScaler()\n",
    "for col in df.columns:\n",
    "    df[col] = mx.fit_transform(df[[col]])"
   ]
  },
  {
   "cell_type": "code",
   "execution_count": 7,
   "id": "38f2e061",
   "metadata": {},
   "outputs": [
    {
     "data": {
      "text/html": [
       "<div>\n",
       "<style scoped>\n",
       "    .dataframe tbody tr th:only-of-type {\n",
       "        vertical-align: middle;\n",
       "    }\n",
       "\n",
       "    .dataframe tbody tr th {\n",
       "        vertical-align: top;\n",
       "    }\n",
       "\n",
       "    .dataframe thead th {\n",
       "        text-align: right;\n",
       "    }\n",
       "</style>\n",
       "<table border=\"1\" class=\"dataframe\">\n",
       "  <thead>\n",
       "    <tr style=\"text-align: right;\">\n",
       "      <th></th>\n",
       "      <th>no_of_dependents</th>\n",
       "      <th>education</th>\n",
       "      <th>self_employed</th>\n",
       "      <th>income_annum</th>\n",
       "      <th>loan_amount</th>\n",
       "      <th>loan_term</th>\n",
       "      <th>cibil_score</th>\n",
       "      <th>residential_assets_value</th>\n",
       "      <th>commercial_assets_value</th>\n",
       "      <th>luxury_assets_value</th>\n",
       "      <th>bank_asset_value</th>\n",
       "      <th>loan_status</th>\n",
       "    </tr>\n",
       "  </thead>\n",
       "  <tbody>\n",
       "    <tr>\n",
       "      <th>0</th>\n",
       "      <td>0.4</td>\n",
       "      <td>0.0</td>\n",
       "      <td>0.0</td>\n",
       "      <td>0.969072</td>\n",
       "      <td>0.755102</td>\n",
       "      <td>0.555556</td>\n",
       "      <td>0.796667</td>\n",
       "      <td>0.085616</td>\n",
       "      <td>0.907216</td>\n",
       "      <td>0.575835</td>\n",
       "      <td>0.544218</td>\n",
       "      <td>0.0</td>\n",
       "    </tr>\n",
       "    <tr>\n",
       "      <th>1</th>\n",
       "      <td>0.0</td>\n",
       "      <td>1.0</td>\n",
       "      <td>1.0</td>\n",
       "      <td>0.402062</td>\n",
       "      <td>0.303571</td>\n",
       "      <td>0.333333</td>\n",
       "      <td>0.195000</td>\n",
       "      <td>0.095890</td>\n",
       "      <td>0.113402</td>\n",
       "      <td>0.218509</td>\n",
       "      <td>0.224490</td>\n",
       "      <td>1.0</td>\n",
       "    </tr>\n",
       "    <tr>\n",
       "      <th>2</th>\n",
       "      <td>0.6</td>\n",
       "      <td>0.0</td>\n",
       "      <td>0.0</td>\n",
       "      <td>0.917526</td>\n",
       "      <td>0.750000</td>\n",
       "      <td>1.000000</td>\n",
       "      <td>0.343333</td>\n",
       "      <td>0.246575</td>\n",
       "      <td>0.231959</td>\n",
       "      <td>0.848329</td>\n",
       "      <td>0.870748</td>\n",
       "      <td>1.0</td>\n",
       "    </tr>\n",
       "    <tr>\n",
       "      <th>3</th>\n",
       "      <td>0.6</td>\n",
       "      <td>0.0</td>\n",
       "      <td>0.0</td>\n",
       "      <td>0.824742</td>\n",
       "      <td>0.775510</td>\n",
       "      <td>0.333333</td>\n",
       "      <td>0.278333</td>\n",
       "      <td>0.626712</td>\n",
       "      <td>0.170103</td>\n",
       "      <td>0.591260</td>\n",
       "      <td>0.537415</td>\n",
       "      <td>1.0</td>\n",
       "    </tr>\n",
       "    <tr>\n",
       "      <th>4</th>\n",
       "      <td>1.0</td>\n",
       "      <td>1.0</td>\n",
       "      <td>1.0</td>\n",
       "      <td>0.989691</td>\n",
       "      <td>0.609694</td>\n",
       "      <td>1.000000</td>\n",
       "      <td>0.136667</td>\n",
       "      <td>0.428082</td>\n",
       "      <td>0.422680</td>\n",
       "      <td>0.748072</td>\n",
       "      <td>0.340136</td>\n",
       "      <td>1.0</td>\n",
       "    </tr>\n",
       "  </tbody>\n",
       "</table>\n",
       "</div>"
      ],
      "text/plain": [
       "   no_of_dependents  education  self_employed  income_annum  loan_amount  \\\n",
       "0               0.4        0.0            0.0      0.969072     0.755102   \n",
       "1               0.0        1.0            1.0      0.402062     0.303571   \n",
       "2               0.6        0.0            0.0      0.917526     0.750000   \n",
       "3               0.6        0.0            0.0      0.824742     0.775510   \n",
       "4               1.0        1.0            1.0      0.989691     0.609694   \n",
       "\n",
       "   loan_term  cibil_score  residential_assets_value  commercial_assets_value  \\\n",
       "0   0.555556     0.796667                  0.085616                 0.907216   \n",
       "1   0.333333     0.195000                  0.095890                 0.113402   \n",
       "2   1.000000     0.343333                  0.246575                 0.231959   \n",
       "3   0.333333     0.278333                  0.626712                 0.170103   \n",
       "4   1.000000     0.136667                  0.428082                 0.422680   \n",
       "\n",
       "   luxury_assets_value  bank_asset_value  loan_status  \n",
       "0             0.575835          0.544218          0.0  \n",
       "1             0.218509          0.224490          1.0  \n",
       "2             0.848329          0.870748          1.0  \n",
       "3             0.591260          0.537415          1.0  \n",
       "4             0.748072          0.340136          1.0  "
      ]
     },
     "execution_count": 7,
     "metadata": {},
     "output_type": "execute_result"
    }
   ],
   "source": [
    "df.head()"
   ]
  },
  {
   "cell_type": "markdown",
   "id": "4ce139be",
   "metadata": {},
   "source": [
    "## Data Splitting"
   ]
  },
  {
   "cell_type": "code",
   "execution_count": 8,
   "id": "b2e32122",
   "metadata": {},
   "outputs": [],
   "source": [
    "X = df.drop(columns=[\"loan_status\"])\n",
    "y = df[\"loan_status\"]"
   ]
  },
  {
   "cell_type": "code",
   "execution_count": 9,
   "id": "3a5a473a",
   "metadata": {},
   "outputs": [],
   "source": [
    "X_train, X_test, y_train, y_test = train_test_split(X, y, test_size=0.2, random_state=42, shuffle=True, stratify=y)"
   ]
  },
  {
   "cell_type": "markdown",
   "id": "25ac3ee3",
   "metadata": {},
   "source": [
    "# Model Training"
   ]
  },
  {
   "cell_type": "markdown",
   "id": "55183e4d",
   "metadata": {},
   "source": [
    "## SVM Model"
   ]
  },
  {
   "cell_type": "code",
   "execution_count": 10,
   "id": "ba809ddc",
   "metadata": {},
   "outputs": [],
   "source": [
    "model_svm = SVC(kernel='poly', degree=4, C=4.0)"
   ]
  },
  {
   "cell_type": "code",
   "execution_count": 11,
   "id": "a1d20692",
   "metadata": {},
   "outputs": [],
   "source": [
    "model_svm.fit(X_train, y_train)\n",
    "y_pred = model_svm.predict(X_test)"
   ]
  },
  {
   "cell_type": "code",
   "execution_count": 12,
   "id": "138f82b4",
   "metadata": {},
   "outputs": [
    {
     "name": "stdout",
     "output_type": "stream",
     "text": [
      "Accuracy: 94.4965%\n"
     ]
    }
   ],
   "source": [
    "accuracy = accuracy_score(y_test, y_pred)\n",
    "print(\"Accuracy: %.4f%%\" % (accuracy * 100.0))"
   ]
  },
  {
   "cell_type": "markdown",
   "id": "5483fe95",
   "metadata": {},
   "source": [
    "## Logistic Regression Model"
   ]
  },
  {
   "cell_type": "code",
   "execution_count": 13,
   "id": "2e9d9e4e",
   "metadata": {},
   "outputs": [],
   "source": [
    "model_logistic = LogisticRegression(max_iter=1000, solver='liblinear', penalty='l2', C=1.0)"
   ]
  },
  {
   "cell_type": "code",
   "execution_count": 14,
   "id": "49c5c71f",
   "metadata": {},
   "outputs": [],
   "source": [
    "model_logistic.fit(X_train, y_train)\n",
    "y_pred = model_logistic.predict(X_test)"
   ]
  },
  {
   "cell_type": "code",
   "execution_count": 15,
   "id": "397dd7d0",
   "metadata": {},
   "outputs": [
    {
     "name": "stdout",
     "output_type": "stream",
     "text": [
      "Accuracy: 92.1546%\n"
     ]
    }
   ],
   "source": [
    "accuracy = accuracy_score(y_test, y_pred)\n",
    "print(\"Accuracy: %.4f%%\" % (accuracy * 100.0))"
   ]
  },
  {
   "cell_type": "markdown",
   "id": "89e300c2",
   "metadata": {},
   "source": [
    "## Decision Tree Model"
   ]
  },
  {
   "cell_type": "code",
   "execution_count": null,
   "id": "d9c5452d",
   "metadata": {},
   "outputs": [],
   "source": [
    "model_decision_tree = DecisionTreeClassifier(max_depth=20, random_state=42, criterion='entropy', splitter='best')"
   ]
  },
  {
   "cell_type": "code",
   "execution_count": null,
   "id": "54c67ffd",
   "metadata": {},
   "outputs": [],
   "source": [
    "model_decision_tree.fit(X_train, y_train)\n",
    "y_pred = model_decision_tree.predict(X_test)"
   ]
  },
  {
   "cell_type": "code",
   "execution_count": 18,
   "id": "6cffd4b4",
   "metadata": {},
   "outputs": [
    {
     "name": "stdout",
     "output_type": "stream",
     "text": [
      "Accuracy: 98.0094%\n"
     ]
    }
   ],
   "source": [
    "accuracy = accuracy_score(y_test, y_pred)\n",
    "print(\"Accuracy: %.4f%%\" % (accuracy * 100.0))"
   ]
  },
  {
   "cell_type": "code",
   "execution_count": null,
   "id": "09e2507c",
   "metadata": {},
   "outputs": [
    {
     "data": {
      "text/plain": [
       "[Text(0.8273809523809523, 0.9722222222222222, 'cibil_score <= 0.416\\nentropy = 0.956\\nsamples = 3415\\nvalue = [2125, 1290]\\nclass = Not Approved'),\n",
       " Text(0.7023809523809523, 0.9166666666666666, 'loan_term <= 0.167\\nentropy = 0.498\\nsamples = 1437\\nvalue = [157, 1280]\\nclass = Approved'),\n",
       " Text(0.6785714285714286, 0.8611111111111112, 'loan_amount <= 0.662\\nentropy = 0.997\\nsamples = 295\\nvalue = [157, 138]\\nclass = Not Approved'),\n",
       " Text(0.6190476190476191, 0.8055555555555556, 'income_annum <= 0.727\\nentropy = 0.996\\nsamples = 251\\nvalue = [116, 135]\\nclass = Approved'),\n",
       " Text(0.5714285714285714, 0.75, 'loan_amount <= 0.51\\nentropy = 0.994\\nsamples = 205\\nvalue = [112, 93]\\nclass = Not Approved'),\n",
       " Text(0.5476190476190477, 0.6944444444444444, 'income_annum <= 0.577\\nentropy = 1.0\\nsamples = 183\\nvalue = [90, 93]\\nclass = Approved'),\n",
       " Text(0.5238095238095238, 0.6388888888888888, 'loan_amount <= 0.402\\nentropy = 0.989\\nsamples = 160\\nvalue = [90, 70]\\nclass = Not Approved'),\n",
       " Text(0.5, 0.5833333333333334, 'income_annum <= 0.376\\nentropy = 1.0\\nsamples = 143\\nvalue = [73, 70]\\nclass = Not Approved'),\n",
       " Text(0.44047619047619047, 0.5277777777777778, 'loan_amount <= 0.245\\nentropy = 0.972\\nsamples = 112\\nvalue = [67, 45]\\nclass = Not Approved'),\n",
       " Text(0.39285714285714285, 0.4722222222222222, 'income_annum <= 0.253\\nentropy = 0.999\\nsamples = 91\\nvalue = [47, 44]\\nclass = Not Approved'),\n",
       " Text(0.36904761904761907, 0.4166666666666667, 'luxury_assets_value <= 0.138\\nentropy = 0.959\\nsamples = 76\\nvalue = [47, 29]\\nclass = Not Approved'),\n",
       " Text(0.23809523809523808, 0.3611111111111111, 'self_employed <= 0.5\\nentropy = 0.852\\nsamples = 54\\nvalue = [39, 15]\\nclass = Not Approved'),\n",
       " Text(0.11904761904761904, 0.3055555555555556, 'no_of_dependents <= 0.9\\nentropy = 0.978\\nsamples = 29\\nvalue = [17, 12]\\nclass = Not Approved'),\n",
       " Text(0.07142857142857142, 0.25, 'loan_amount <= 0.014\\nentropy = 0.811\\nsamples = 20\\nvalue = [15, 5]\\nclass = Not Approved'),\n",
       " Text(0.047619047619047616, 0.19444444444444445, 'entropy = 0.0\\nsamples = 2\\nvalue = [0, 2]\\nclass = Approved'),\n",
       " Text(0.09523809523809523, 0.19444444444444445, 'education <= 0.5\\nentropy = 0.65\\nsamples = 18\\nvalue = [15, 3]\\nclass = Not Approved'),\n",
       " Text(0.07142857142857142, 0.1388888888888889, 'residential_assets_value <= 0.063\\nentropy = 0.918\\nsamples = 9\\nvalue = [6, 3]\\nclass = Not Approved'),\n",
       " Text(0.047619047619047616, 0.08333333333333333, 'luxury_assets_value <= 0.063\\nentropy = 0.971\\nsamples = 5\\nvalue = [2, 3]\\nclass = Approved'),\n",
       " Text(0.023809523809523808, 0.027777777777777776, 'entropy = 0.0\\nsamples = 2\\nvalue = [2, 0]\\nclass = Not Approved'),\n",
       " Text(0.07142857142857142, 0.027777777777777776, 'entropy = 0.0\\nsamples = 3\\nvalue = [0, 3]\\nclass = Approved'),\n",
       " Text(0.09523809523809523, 0.08333333333333333, 'entropy = 0.0\\nsamples = 4\\nvalue = [4, 0]\\nclass = Not Approved'),\n",
       " Text(0.11904761904761904, 0.1388888888888889, 'entropy = 0.0\\nsamples = 9\\nvalue = [9, 0]\\nclass = Not Approved'),\n",
       " Text(0.16666666666666666, 0.25, 'residential_assets_value <= 0.065\\nentropy = 0.764\\nsamples = 9\\nvalue = [2, 7]\\nclass = Approved'),\n",
       " Text(0.14285714285714285, 0.19444444444444445, 'entropy = 0.0\\nsamples = 6\\nvalue = [0, 6]\\nclass = Approved'),\n",
       " Text(0.19047619047619047, 0.19444444444444445, 'bank_asset_value <= 0.078\\nentropy = 0.918\\nsamples = 3\\nvalue = [2, 1]\\nclass = Not Approved'),\n",
       " Text(0.16666666666666666, 0.1388888888888889, 'entropy = 0.0\\nsamples = 1\\nvalue = [0, 1]\\nclass = Approved'),\n",
       " Text(0.21428571428571427, 0.1388888888888889, 'entropy = 0.0\\nsamples = 2\\nvalue = [2, 0]\\nclass = Not Approved'),\n",
       " Text(0.35714285714285715, 0.3055555555555556, 'residential_assets_value <= 0.087\\nentropy = 0.529\\nsamples = 25\\nvalue = [22, 3]\\nclass = Not Approved'),\n",
       " Text(0.30952380952380953, 0.25, 'residential_assets_value <= 0.009\\nentropy = 0.276\\nsamples = 21\\nvalue = [20, 1]\\nclass = Not Approved'),\n",
       " Text(0.2857142857142857, 0.19444444444444445, 'income_annum <= 0.082\\nentropy = 1.0\\nsamples = 2\\nvalue = [1, 1]\\nclass = Not Approved'),\n",
       " Text(0.2619047619047619, 0.1388888888888889, 'entropy = 0.0\\nsamples = 1\\nvalue = [0, 1]\\nclass = Approved'),\n",
       " Text(0.30952380952380953, 0.1388888888888889, 'entropy = 0.0\\nsamples = 1\\nvalue = [1, 0]\\nclass = Not Approved'),\n",
       " Text(0.3333333333333333, 0.19444444444444445, 'entropy = 0.0\\nsamples = 19\\nvalue = [19, 0]\\nclass = Not Approved'),\n",
       " Text(0.40476190476190477, 0.25, 'residential_assets_value <= 0.154\\nentropy = 1.0\\nsamples = 4\\nvalue = [2, 2]\\nclass = Not Approved'),\n",
       " Text(0.38095238095238093, 0.19444444444444445, 'entropy = 0.0\\nsamples = 2\\nvalue = [0, 2]\\nclass = Approved'),\n",
       " Text(0.42857142857142855, 0.19444444444444445, 'entropy = 0.0\\nsamples = 2\\nvalue = [2, 0]\\nclass = Not Approved'),\n",
       " Text(0.5, 0.3611111111111111, 'loan_amount <= 0.144\\nentropy = 0.946\\nsamples = 22\\nvalue = [8, 14]\\nclass = Approved'),\n",
       " Text(0.47619047619047616, 0.3055555555555556, 'entropy = 0.0\\nsamples = 12\\nvalue = [0, 12]\\nclass = Approved'),\n",
       " Text(0.5238095238095238, 0.3055555555555556, 'commercial_assets_value <= 0.013\\nentropy = 0.722\\nsamples = 10\\nvalue = [8, 2]\\nclass = Not Approved'),\n",
       " Text(0.5, 0.25, 'loan_amount <= 0.19\\nentropy = 0.918\\nsamples = 3\\nvalue = [1, 2]\\nclass = Approved'),\n",
       " Text(0.47619047619047616, 0.19444444444444445, 'entropy = 0.0\\nsamples = 2\\nvalue = [0, 2]\\nclass = Approved'),\n",
       " Text(0.5238095238095238, 0.19444444444444445, 'entropy = 0.0\\nsamples = 1\\nvalue = [1, 0]\\nclass = Not Approved'),\n",
       " Text(0.5476190476190477, 0.25, 'entropy = 0.0\\nsamples = 7\\nvalue = [7, 0]\\nclass = Not Approved'),\n",
       " Text(0.4166666666666667, 0.4166666666666667, 'entropy = 0.0\\nsamples = 15\\nvalue = [0, 15]\\nclass = Approved'),\n",
       " Text(0.4880952380952381, 0.4722222222222222, 'cibil_score <= 0.018\\nentropy = 0.276\\nsamples = 21\\nvalue = [20, 1]\\nclass = Not Approved'),\n",
       " Text(0.4642857142857143, 0.4166666666666667, 'entropy = 0.0\\nsamples = 1\\nvalue = [0, 1]\\nclass = Approved'),\n",
       " Text(0.5119047619047619, 0.4166666666666667, 'entropy = 0.0\\nsamples = 20\\nvalue = [20, 0]\\nclass = Not Approved'),\n",
       " Text(0.5595238095238095, 0.5277777777777778, 'loan_amount <= 0.351\\nentropy = 0.709\\nsamples = 31\\nvalue = [6, 25]\\nclass = Approved'),\n",
       " Text(0.5357142857142857, 0.4722222222222222, 'entropy = 0.0\\nsamples = 20\\nvalue = [0, 20]\\nclass = Approved'),\n",
       " Text(0.5833333333333334, 0.4722222222222222, 'income_annum <= 0.469\\nentropy = 0.994\\nsamples = 11\\nvalue = [6, 5]\\nclass = Not Approved'),\n",
       " Text(0.5595238095238095, 0.4166666666666667, 'entropy = 0.0\\nsamples = 5\\nvalue = [5, 0]\\nclass = Not Approved'),\n",
       " Text(0.6071428571428571, 0.4166666666666667, 'bank_asset_value <= 0.327\\nentropy = 0.65\\nsamples = 6\\nvalue = [1, 5]\\nclass = Approved'),\n",
       " Text(0.5833333333333334, 0.3611111111111111, 'entropy = 0.0\\nsamples = 4\\nvalue = [0, 4]\\nclass = Approved'),\n",
       " Text(0.6309523809523809, 0.3611111111111111, 'commercial_assets_value <= 0.482\\nentropy = 1.0\\nsamples = 2\\nvalue = [1, 1]\\nclass = Not Approved'),\n",
       " Text(0.6071428571428571, 0.3055555555555556, 'entropy = 0.0\\nsamples = 1\\nvalue = [1, 0]\\nclass = Not Approved'),\n",
       " Text(0.6547619047619048, 0.3055555555555556, 'entropy = 0.0\\nsamples = 1\\nvalue = [0, 1]\\nclass = Approved'),\n",
       " Text(0.5476190476190477, 0.5833333333333334, 'entropy = 0.0\\nsamples = 17\\nvalue = [17, 0]\\nclass = Not Approved'),\n",
       " Text(0.5714285714285714, 0.6388888888888888, 'entropy = 0.0\\nsamples = 23\\nvalue = [0, 23]\\nclass = Approved'),\n",
       " Text(0.5952380952380952, 0.6944444444444444, 'entropy = 0.0\\nsamples = 22\\nvalue = [22, 0]\\nclass = Not Approved'),\n",
       " Text(0.6666666666666666, 0.75, 'cibil_score <= 0.015\\nentropy = 0.426\\nsamples = 46\\nvalue = [4, 42]\\nclass = Approved'),\n",
       " Text(0.6428571428571429, 0.6944444444444444, 'entropy = 0.0\\nsamples = 2\\nvalue = [2, 0]\\nclass = Not Approved'),\n",
       " Text(0.6904761904761905, 0.6944444444444444, 'income_annum <= 0.763\\nentropy = 0.267\\nsamples = 44\\nvalue = [2, 42]\\nclass = Approved'),\n",
       " Text(0.6666666666666666, 0.6388888888888888, 'loan_amount <= 0.568\\nentropy = 0.764\\nsamples = 9\\nvalue = [2, 7]\\nclass = Approved'),\n",
       " Text(0.6428571428571429, 0.5833333333333334, 'entropy = 0.0\\nsamples = 7\\nvalue = [0, 7]\\nclass = Approved'),\n",
       " Text(0.6904761904761905, 0.5833333333333334, 'entropy = 0.0\\nsamples = 2\\nvalue = [2, 0]\\nclass = Not Approved'),\n",
       " Text(0.7142857142857143, 0.6388888888888888, 'entropy = 0.0\\nsamples = 35\\nvalue = [0, 35]\\nclass = Approved'),\n",
       " Text(0.7380952380952381, 0.8055555555555556, 'income_annum <= 0.974\\nentropy = 0.359\\nsamples = 44\\nvalue = [41, 3]\\nclass = Not Approved'),\n",
       " Text(0.7142857142857143, 0.75, 'entropy = 0.0\\nsamples = 37\\nvalue = [37, 0]\\nclass = Not Approved'),\n",
       " Text(0.7619047619047619, 0.75, 'loan_amount <= 0.733\\nentropy = 0.985\\nsamples = 7\\nvalue = [4, 3]\\nclass = Not Approved'),\n",
       " Text(0.7380952380952381, 0.6944444444444444, 'entropy = 0.0\\nsamples = 3\\nvalue = [0, 3]\\nclass = Approved'),\n",
       " Text(0.7857142857142857, 0.6944444444444444, 'entropy = 0.0\\nsamples = 4\\nvalue = [4, 0]\\nclass = Not Approved'),\n",
       " Text(0.7261904761904762, 0.8611111111111112, 'entropy = 0.0\\nsamples = 1142\\nvalue = [0, 1142]\\nclass = Approved'),\n",
       " Text(0.9523809523809523, 0.9166666666666666, 'residential_assets_value <= 0.039\\nentropy = 0.046\\nsamples = 1978\\nvalue = [1968, 10]\\nclass = Not Approved'),\n",
       " Text(0.9285714285714286, 0.8611111111111112, 'commercial_assets_value <= 0.095\\nentropy = 0.212\\nsamples = 298\\nvalue = [288, 10]\\nclass = Not Approved'),\n",
       " Text(0.9047619047619048, 0.8055555555555556, 'income_annum <= 0.825\\nentropy = 0.306\\nsamples = 183\\nvalue = [173, 10]\\nclass = Not Approved'),\n",
       " Text(0.8809523809523809, 0.75, 'residential_assets_value <= 0.005\\nentropy = 0.261\\nsamples = 181\\nvalue = [173, 8]\\nclass = Not Approved'),\n",
       " Text(0.8333333333333334, 0.6944444444444444, 'cibil_score <= 0.639\\nentropy = 0.684\\nsamples = 22\\nvalue = [18, 4]\\nclass = Not Approved'),\n",
       " Text(0.8095238095238095, 0.6388888888888888, 'commercial_assets_value <= 0.044\\nentropy = 0.946\\nsamples = 11\\nvalue = [7, 4]\\nclass = Not Approved'),\n",
       " Text(0.7857142857142857, 0.5833333333333334, 'cibil_score <= 0.483\\nentropy = 0.764\\nsamples = 9\\nvalue = [7, 2]\\nclass = Not Approved'),\n",
       " Text(0.7619047619047619, 0.5277777777777778, 'commercial_assets_value <= 0.015\\nentropy = 0.918\\nsamples = 3\\nvalue = [1, 2]\\nclass = Approved'),\n",
       " Text(0.7380952380952381, 0.4722222222222222, 'entropy = 0.0\\nsamples = 2\\nvalue = [0, 2]\\nclass = Approved'),\n",
       " Text(0.7857142857142857, 0.4722222222222222, 'entropy = 0.0\\nsamples = 1\\nvalue = [1, 0]\\nclass = Not Approved'),\n",
       " Text(0.8095238095238095, 0.5277777777777778, 'entropy = 0.0\\nsamples = 6\\nvalue = [6, 0]\\nclass = Not Approved'),\n",
       " Text(0.8333333333333334, 0.5833333333333334, 'entropy = 0.0\\nsamples = 2\\nvalue = [0, 2]\\nclass = Approved'),\n",
       " Text(0.8571428571428571, 0.6388888888888888, 'entropy = 0.0\\nsamples = 11\\nvalue = [11, 0]\\nclass = Not Approved'),\n",
       " Text(0.9285714285714286, 0.6944444444444444, 'no_of_dependents <= 0.3\\nentropy = 0.169\\nsamples = 159\\nvalue = [155, 4]\\nclass = Not Approved'),\n",
       " Text(0.9047619047619048, 0.6388888888888888, 'commercial_assets_value <= 0.023\\nentropy = 0.353\\nsamples = 60\\nvalue = [56, 4]\\nclass = Not Approved'),\n",
       " Text(0.8809523809523809, 0.5833333333333334, 'loan_amount <= 0.094\\nentropy = 0.579\\nsamples = 29\\nvalue = [25, 4]\\nclass = Not Approved'),\n",
       " Text(0.8571428571428571, 0.5277777777777778, 'residential_assets_value <= 0.009\\nentropy = 0.235\\nsamples = 26\\nvalue = [25, 1]\\nclass = Not Approved'),\n",
       " Text(0.8333333333333334, 0.4722222222222222, 'income_annum <= 0.015\\nentropy = 0.918\\nsamples = 3\\nvalue = [2, 1]\\nclass = Not Approved'),\n",
       " Text(0.8095238095238095, 0.4166666666666667, 'entropy = 0.0\\nsamples = 1\\nvalue = [0, 1]\\nclass = Approved'),\n",
       " Text(0.8571428571428571, 0.4166666666666667, 'entropy = 0.0\\nsamples = 2\\nvalue = [2, 0]\\nclass = Not Approved'),\n",
       " Text(0.8809523809523809, 0.4722222222222222, 'entropy = 0.0\\nsamples = 23\\nvalue = [23, 0]\\nclass = Not Approved'),\n",
       " Text(0.9047619047619048, 0.5277777777777778, 'entropy = 0.0\\nsamples = 3\\nvalue = [0, 3]\\nclass = Approved'),\n",
       " Text(0.9285714285714286, 0.5833333333333334, 'entropy = 0.0\\nsamples = 31\\nvalue = [31, 0]\\nclass = Not Approved'),\n",
       " Text(0.9523809523809523, 0.6388888888888888, 'entropy = 0.0\\nsamples = 99\\nvalue = [99, 0]\\nclass = Not Approved'),\n",
       " Text(0.9285714285714286, 0.75, 'entropy = 0.0\\nsamples = 2\\nvalue = [0, 2]\\nclass = Approved'),\n",
       " Text(0.9523809523809523, 0.8055555555555556, 'entropy = 0.0\\nsamples = 115\\nvalue = [115, 0]\\nclass = Not Approved'),\n",
       " Text(0.9761904761904762, 0.8611111111111112, 'entropy = 0.0\\nsamples = 1680\\nvalue = [1680, 0]\\nclass = Not Approved')]"
      ]
     },
     "execution_count": 19,
     "metadata": {},
     "output_type": "execute_result"
    },
    {
     "data": {
      "image/png": "[encoded data removed]",
      "text/plain": [
       "<Figure size 640x480 with 1 Axes>"
      ]
     },
     "metadata": {},
     "output_type": "display_data"
    }
   ],
   "source": [
    "plot_tree(model_decision_tree, filled=True, feature_names=X.columns, class_names=[\"Not Approved\", \"Approved\"], rounded=True)"
   ]
  },
  {
   "cell_type": "code",
   "execution_count": null,
   "id": "0417b4fe",
   "metadata": {},
   "outputs": [],
   "source": []
  }
 ],
 "metadata": {
  "kernelspec": {
   "display_name": "base",
   "language": "python",
   "name": "python3"
  },
  "language_info": {
   "codemirror_mode": {
    "name": "ipython",
    "version": 3
   },
   "file_extension": ".py",
   "mimetype": "text/x-python",
   "name": "python",
   "nbconvert_exporter": "python",
   "pygments_lexer": "ipython3",
   "version": "3.11.7"
  }
 },
 "nbformat": 4,
 "nbformat_minor": 5
}
