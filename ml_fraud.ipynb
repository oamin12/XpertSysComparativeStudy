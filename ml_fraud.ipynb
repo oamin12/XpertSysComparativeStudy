{
 "cells": [
  {
   "cell_type": "markdown",
   "id": "397b33f5",
   "metadata": {},
   "source": [
    "### SVM Model"
   ]
  },
  {
   "cell_type": "code",
   "execution_count": 1,
   "id": "06c8a78b",
   "metadata": {},
   "outputs": [],
   "source": [
    "import numpy as np\n",
    "import matplotlib.pyplot as plt\n",
    "from sklearn.linear_model import LogisticRegression\n",
    "from sklearn.svm import SVC\n",
    "from sklearn.preprocessing import MinMaxScaler\n",
    "from sklearn.model_selection import train_test_split\n",
    "from sklearn.ensemble import RandomForestRegressor\n",
    "from sklearn.metrics import mean_squared_error\n",
    "from sklearn.tree import DecisionTreeClassifier, plot_tree\n",
    "from sklearn.metrics import accuracy_score, f1_score\n",
    "import pandas as pd\n",
    "import seaborn as sns"
   ]
  },
  {
   "cell_type": "code",
   "execution_count": 2,
   "id": "f9c2a9c8",
   "metadata": {},
   "outputs": [],
   "source": [
    "df = pd.read_csv('datasets\\Fraud-Detection-Transactions-Dataset\\synthetic_fraud_dataset.csv')"
   ]
  },
  {
   "cell_type": "code",
   "execution_count": 3,
   "id": "b7519b4c",
   "metadata": {},
   "outputs": [
    {
     "name": "stdout",
     "output_type": "stream",
     "text": [
      "(50000, 21)\n"
     ]
    },
    {
     "data": {
      "text/html": [
       "<div>\n",
       "<style scoped>\n",
       "    .dataframe tbody tr th:only-of-type {\n",
       "        vertical-align: middle;\n",
       "    }\n",
       "\n",
       "    .dataframe tbody tr th {\n",
       "        vertical-align: top;\n",
       "    }\n",
       "\n",
       "    .dataframe thead th {\n",
       "        text-align: right;\n",
       "    }\n",
       "</style>\n",
       "<table border=\"1\" class=\"dataframe\">\n",
       "  <thead>\n",
       "    <tr style=\"text-align: right;\">\n",
       "      <th></th>\n",
       "      <th>Transaction_Amount</th>\n",
       "      <th>Transaction_Type</th>\n",
       "      <th>Account_Balance</th>\n",
       "      <th>Device_Type</th>\n",
       "      <th>Location</th>\n",
       "      <th>Merchant_Category</th>\n",
       "      <th>IP_Address_Flag</th>\n",
       "      <th>Previous_Fraudulent_Activity</th>\n",
       "      <th>Daily_Transaction_Count</th>\n",
       "      <th>Avg_Transaction_Amount_7d</th>\n",
       "      <th>Failed_Transaction_Count_7d</th>\n",
       "      <th>Card_Type</th>\n",
       "      <th>Card_Age</th>\n",
       "      <th>Transaction_Distance</th>\n",
       "      <th>Authentication_Method</th>\n",
       "      <th>Risk_Score</th>\n",
       "      <th>Is_Weekend</th>\n",
       "      <th>Fraud_Label</th>\n",
       "      <th>Hour</th>\n",
       "    </tr>\n",
       "  </thead>\n",
       "  <tbody>\n",
       "    <tr>\n",
       "      <th>0</th>\n",
       "      <td>39.79</td>\n",
       "      <td>POS</td>\n",
       "      <td>93213.17</td>\n",
       "      <td>Laptop</td>\n",
       "      <td>Sydney</td>\n",
       "      <td>Travel</td>\n",
       "      <td>0</td>\n",
       "      <td>0</td>\n",
       "      <td>7</td>\n",
       "      <td>437.63</td>\n",
       "      <td>3</td>\n",
       "      <td>Amex</td>\n",
       "      <td>65</td>\n",
       "      <td>883.17</td>\n",
       "      <td>Biometric</td>\n",
       "      <td>0.8494</td>\n",
       "      <td>0</td>\n",
       "      <td>0</td>\n",
       "      <td>19</td>\n",
       "    </tr>\n",
       "    <tr>\n",
       "      <th>1</th>\n",
       "      <td>1.19</td>\n",
       "      <td>Bank Transfer</td>\n",
       "      <td>75725.25</td>\n",
       "      <td>Mobile</td>\n",
       "      <td>New York</td>\n",
       "      <td>Clothing</td>\n",
       "      <td>0</td>\n",
       "      <td>0</td>\n",
       "      <td>13</td>\n",
       "      <td>478.76</td>\n",
       "      <td>4</td>\n",
       "      <td>Mastercard</td>\n",
       "      <td>186</td>\n",
       "      <td>2203.36</td>\n",
       "      <td>Password</td>\n",
       "      <td>0.0959</td>\n",
       "      <td>0</td>\n",
       "      <td>1</td>\n",
       "      <td>4</td>\n",
       "    </tr>\n",
       "    <tr>\n",
       "      <th>2</th>\n",
       "      <td>28.96</td>\n",
       "      <td>Online</td>\n",
       "      <td>1588.96</td>\n",
       "      <td>Tablet</td>\n",
       "      <td>Mumbai</td>\n",
       "      <td>Restaurants</td>\n",
       "      <td>0</td>\n",
       "      <td>0</td>\n",
       "      <td>14</td>\n",
       "      <td>50.01</td>\n",
       "      <td>4</td>\n",
       "      <td>Visa</td>\n",
       "      <td>226</td>\n",
       "      <td>1909.29</td>\n",
       "      <td>Biometric</td>\n",
       "      <td>0.8400</td>\n",
       "      <td>0</td>\n",
       "      <td>1</td>\n",
       "      <td>15</td>\n",
       "    </tr>\n",
       "    <tr>\n",
       "      <th>3</th>\n",
       "      <td>254.32</td>\n",
       "      <td>ATM Withdrawal</td>\n",
       "      <td>76807.20</td>\n",
       "      <td>Tablet</td>\n",
       "      <td>New York</td>\n",
       "      <td>Clothing</td>\n",
       "      <td>0</td>\n",
       "      <td>0</td>\n",
       "      <td>8</td>\n",
       "      <td>182.48</td>\n",
       "      <td>4</td>\n",
       "      <td>Visa</td>\n",
       "      <td>76</td>\n",
       "      <td>1311.86</td>\n",
       "      <td>OTP</td>\n",
       "      <td>0.7935</td>\n",
       "      <td>0</td>\n",
       "      <td>1</td>\n",
       "      <td>0</td>\n",
       "    </tr>\n",
       "    <tr>\n",
       "      <th>4</th>\n",
       "      <td>31.28</td>\n",
       "      <td>POS</td>\n",
       "      <td>92354.66</td>\n",
       "      <td>Mobile</td>\n",
       "      <td>Mumbai</td>\n",
       "      <td>Electronics</td>\n",
       "      <td>0</td>\n",
       "      <td>1</td>\n",
       "      <td>14</td>\n",
       "      <td>328.69</td>\n",
       "      <td>4</td>\n",
       "      <td>Mastercard</td>\n",
       "      <td>140</td>\n",
       "      <td>966.98</td>\n",
       "      <td>Password</td>\n",
       "      <td>0.3819</td>\n",
       "      <td>1</td>\n",
       "      <td>1</td>\n",
       "      <td>23</td>\n",
       "    </tr>\n",
       "  </tbody>\n",
       "</table>\n",
       "</div>"
      ],
      "text/plain": [
       "   Transaction_Amount Transaction_Type  Account_Balance Device_Type  Location  \\\n",
       "0               39.79              POS         93213.17      Laptop    Sydney   \n",
       "1                1.19    Bank Transfer         75725.25      Mobile  New York   \n",
       "2               28.96           Online          1588.96      Tablet    Mumbai   \n",
       "3              254.32   ATM Withdrawal         76807.20      Tablet  New York   \n",
       "4               31.28              POS         92354.66      Mobile    Mumbai   \n",
       "\n",
       "  Merchant_Category  IP_Address_Flag  Previous_Fraudulent_Activity  \\\n",
       "0            Travel                0                             0   \n",
       "1          Clothing                0                             0   \n",
       "2       Restaurants                0                             0   \n",
       "3          Clothing                0                             0   \n",
       "4       Electronics                0                             1   \n",
       "\n",
       "   Daily_Transaction_Count  Avg_Transaction_Amount_7d  \\\n",
       "0                        7                     437.63   \n",
       "1                       13                     478.76   \n",
       "2                       14                      50.01   \n",
       "3                        8                     182.48   \n",
       "4                       14                     328.69   \n",
       "\n",
       "   Failed_Transaction_Count_7d   Card_Type  Card_Age  Transaction_Distance  \\\n",
       "0                            3        Amex        65                883.17   \n",
       "1                            4  Mastercard       186               2203.36   \n",
       "2                            4        Visa       226               1909.29   \n",
       "3                            4        Visa        76               1311.86   \n",
       "4                            4  Mastercard       140                966.98   \n",
       "\n",
       "  Authentication_Method  Risk_Score  Is_Weekend  Fraud_Label  Hour  \n",
       "0             Biometric      0.8494           0            0    19  \n",
       "1              Password      0.0959           0            1     4  \n",
       "2             Biometric      0.8400           0            1    15  \n",
       "3                   OTP      0.7935           0            1     0  \n",
       "4              Password      0.3819           1            1    23  "
      ]
     },
     "execution_count": 3,
     "metadata": {},
     "output_type": "execute_result"
    }
   ],
   "source": [
    "print(df.shape)\n",
    "df.columns = df.columns.str.strip()\n",
    "#drop: Transaction_ID, User_ID\n",
    "df.drop(['Transaction_ID', 'User_ID'], axis=1, inplace=True)\n",
    "# Convert to datetime if not already\n",
    "df['Timestamp'] = pd.to_datetime(df['Timestamp'])\n",
    "\n",
    "# Extract hour\n",
    "df['Hour'] = df['Timestamp'].dt.hour\n",
    "\n",
    "# Drop original Timestamp column\n",
    "df = df.drop(columns=['Timestamp'])\n",
    "df.head()"
   ]
  },
  {
   "cell_type": "markdown",
   "id": "975f6a6c",
   "metadata": {},
   "source": [
    "## Factorization"
   ]
  },
  {
   "cell_type": "code",
   "execution_count": 4,
   "id": "b0f5b438",
   "metadata": {},
   "outputs": [
    {
     "name": "stdout",
     "output_type": "stream",
     "text": [
      "<class 'pandas.core.frame.DataFrame'>\n",
      "RangeIndex: 50000 entries, 0 to 49999\n",
      "Data columns (total 19 columns):\n",
      " #   Column                        Non-Null Count  Dtype  \n",
      "---  ------                        --------------  -----  \n",
      " 0   Transaction_Amount            50000 non-null  float64\n",
      " 1   Transaction_Type              50000 non-null  object \n",
      " 2   Account_Balance               50000 non-null  float64\n",
      " 3   Device_Type                   50000 non-null  object \n",
      " 4   Location                      50000 non-null  object \n",
      " 5   Merchant_Category             50000 non-null  object \n",
      " 6   IP_Address_Flag               50000 non-null  int64  \n",
      " 7   Previous_Fraudulent_Activity  50000 non-null  int64  \n",
      " 8   Daily_Transaction_Count       50000 non-null  int64  \n",
      " 9   Avg_Transaction_Amount_7d     50000 non-null  float64\n",
      " 10  Failed_Transaction_Count_7d   50000 non-null  int64  \n",
      " 11  Card_Type                     50000 non-null  object \n",
      " 12  Card_Age                      50000 non-null  int64  \n",
      " 13  Transaction_Distance          50000 non-null  float64\n",
      " 14  Authentication_Method         50000 non-null  object \n",
      " 15  Risk_Score                    50000 non-null  float64\n",
      " 16  Is_Weekend                    50000 non-null  int64  \n",
      " 17  Fraud_Label                   50000 non-null  int64  \n",
      " 18  Hour                          50000 non-null  int32  \n",
      "dtypes: float64(5), int32(1), int64(7), object(6)\n",
      "memory usage: 7.1+ MB\n"
     ]
    }
   ],
   "source": [
    "df.info()"
   ]
  },
  {
   "cell_type": "code",
   "execution_count": 5,
   "id": "4461b2ae",
   "metadata": {},
   "outputs": [
    {
     "name": "stdout",
     "output_type": "stream",
     "text": [
      "Column 'Transaction_Type' has 4 unique values.\n",
      "Column 'Device_Type' has 3 unique values.\n",
      "Column 'Location' has 5 unique values.\n",
      "Column 'Merchant_Category' has 5 unique values.\n",
      "Column 'Card_Type' has 4 unique values.\n",
      "Column 'Authentication_Method' has 4 unique values.\n"
     ]
    }
   ],
   "source": [
    "for col in df.columns:\n",
    "    if df[col].dtype == 'object':\n",
    "        df[col] = pd.factorize(df[col])[0]\n",
    "        print(f\"Column '{col}' has {df[col].nunique()} unique values.\")"
   ]
  },
  {
   "cell_type": "code",
   "execution_count": 6,
   "id": "1acec499",
   "metadata": {},
   "outputs": [
    {
     "data": {
      "text/html": [
       "<div>\n",
       "<style scoped>\n",
       "    .dataframe tbody tr th:only-of-type {\n",
       "        vertical-align: middle;\n",
       "    }\n",
       "\n",
       "    .dataframe tbody tr th {\n",
       "        vertical-align: top;\n",
       "    }\n",
       "\n",
       "    .dataframe thead th {\n",
       "        text-align: right;\n",
       "    }\n",
       "</style>\n",
       "<table border=\"1\" class=\"dataframe\">\n",
       "  <thead>\n",
       "    <tr style=\"text-align: right;\">\n",
       "      <th></th>\n",
       "      <th>Transaction_Amount</th>\n",
       "      <th>Transaction_Type</th>\n",
       "      <th>Account_Balance</th>\n",
       "      <th>Device_Type</th>\n",
       "      <th>Location</th>\n",
       "      <th>Merchant_Category</th>\n",
       "      <th>IP_Address_Flag</th>\n",
       "      <th>Previous_Fraudulent_Activity</th>\n",
       "      <th>Daily_Transaction_Count</th>\n",
       "      <th>Avg_Transaction_Amount_7d</th>\n",
       "      <th>Failed_Transaction_Count_7d</th>\n",
       "      <th>Card_Type</th>\n",
       "      <th>Card_Age</th>\n",
       "      <th>Transaction_Distance</th>\n",
       "      <th>Authentication_Method</th>\n",
       "      <th>Risk_Score</th>\n",
       "      <th>Is_Weekend</th>\n",
       "      <th>Fraud_Label</th>\n",
       "      <th>Hour</th>\n",
       "    </tr>\n",
       "  </thead>\n",
       "  <tbody>\n",
       "    <tr>\n",
       "      <th>0</th>\n",
       "      <td>39.79</td>\n",
       "      <td>0</td>\n",
       "      <td>93213.17</td>\n",
       "      <td>0</td>\n",
       "      <td>0</td>\n",
       "      <td>0</td>\n",
       "      <td>0</td>\n",
       "      <td>0</td>\n",
       "      <td>7</td>\n",
       "      <td>437.63</td>\n",
       "      <td>3</td>\n",
       "      <td>0</td>\n",
       "      <td>65</td>\n",
       "      <td>883.17</td>\n",
       "      <td>0</td>\n",
       "      <td>0.8494</td>\n",
       "      <td>0</td>\n",
       "      <td>0</td>\n",
       "      <td>19</td>\n",
       "    </tr>\n",
       "    <tr>\n",
       "      <th>1</th>\n",
       "      <td>1.19</td>\n",
       "      <td>1</td>\n",
       "      <td>75725.25</td>\n",
       "      <td>1</td>\n",
       "      <td>1</td>\n",
       "      <td>1</td>\n",
       "      <td>0</td>\n",
       "      <td>0</td>\n",
       "      <td>13</td>\n",
       "      <td>478.76</td>\n",
       "      <td>4</td>\n",
       "      <td>1</td>\n",
       "      <td>186</td>\n",
       "      <td>2203.36</td>\n",
       "      <td>1</td>\n",
       "      <td>0.0959</td>\n",
       "      <td>0</td>\n",
       "      <td>1</td>\n",
       "      <td>4</td>\n",
       "    </tr>\n",
       "    <tr>\n",
       "      <th>2</th>\n",
       "      <td>28.96</td>\n",
       "      <td>2</td>\n",
       "      <td>1588.96</td>\n",
       "      <td>2</td>\n",
       "      <td>2</td>\n",
       "      <td>2</td>\n",
       "      <td>0</td>\n",
       "      <td>0</td>\n",
       "      <td>14</td>\n",
       "      <td>50.01</td>\n",
       "      <td>4</td>\n",
       "      <td>2</td>\n",
       "      <td>226</td>\n",
       "      <td>1909.29</td>\n",
       "      <td>0</td>\n",
       "      <td>0.8400</td>\n",
       "      <td>0</td>\n",
       "      <td>1</td>\n",
       "      <td>15</td>\n",
       "    </tr>\n",
       "    <tr>\n",
       "      <th>3</th>\n",
       "      <td>254.32</td>\n",
       "      <td>3</td>\n",
       "      <td>76807.20</td>\n",
       "      <td>2</td>\n",
       "      <td>1</td>\n",
       "      <td>1</td>\n",
       "      <td>0</td>\n",
       "      <td>0</td>\n",
       "      <td>8</td>\n",
       "      <td>182.48</td>\n",
       "      <td>4</td>\n",
       "      <td>2</td>\n",
       "      <td>76</td>\n",
       "      <td>1311.86</td>\n",
       "      <td>2</td>\n",
       "      <td>0.7935</td>\n",
       "      <td>0</td>\n",
       "      <td>1</td>\n",
       "      <td>0</td>\n",
       "    </tr>\n",
       "    <tr>\n",
       "      <th>4</th>\n",
       "      <td>31.28</td>\n",
       "      <td>0</td>\n",
       "      <td>92354.66</td>\n",
       "      <td>1</td>\n",
       "      <td>2</td>\n",
       "      <td>3</td>\n",
       "      <td>0</td>\n",
       "      <td>1</td>\n",
       "      <td>14</td>\n",
       "      <td>328.69</td>\n",
       "      <td>4</td>\n",
       "      <td>1</td>\n",
       "      <td>140</td>\n",
       "      <td>966.98</td>\n",
       "      <td>1</td>\n",
       "      <td>0.3819</td>\n",
       "      <td>1</td>\n",
       "      <td>1</td>\n",
       "      <td>23</td>\n",
       "    </tr>\n",
       "  </tbody>\n",
       "</table>\n",
       "</div>"
      ],
      "text/plain": [
       "   Transaction_Amount  Transaction_Type  Account_Balance  Device_Type  \\\n",
       "0               39.79                 0         93213.17            0   \n",
       "1                1.19                 1         75725.25            1   \n",
       "2               28.96                 2          1588.96            2   \n",
       "3              254.32                 3         76807.20            2   \n",
       "4               31.28                 0         92354.66            1   \n",
       "\n",
       "   Location  Merchant_Category  IP_Address_Flag  Previous_Fraudulent_Activity  \\\n",
       "0         0                  0                0                             0   \n",
       "1         1                  1                0                             0   \n",
       "2         2                  2                0                             0   \n",
       "3         1                  1                0                             0   \n",
       "4         2                  3                0                             1   \n",
       "\n",
       "   Daily_Transaction_Count  Avg_Transaction_Amount_7d  \\\n",
       "0                        7                     437.63   \n",
       "1                       13                     478.76   \n",
       "2                       14                      50.01   \n",
       "3                        8                     182.48   \n",
       "4                       14                     328.69   \n",
       "\n",
       "   Failed_Transaction_Count_7d  Card_Type  Card_Age  Transaction_Distance  \\\n",
       "0                            3          0        65                883.17   \n",
       "1                            4          1       186               2203.36   \n",
       "2                            4          2       226               1909.29   \n",
       "3                            4          2        76               1311.86   \n",
       "4                            4          1       140                966.98   \n",
       "\n",
       "   Authentication_Method  Risk_Score  Is_Weekend  Fraud_Label  Hour  \n",
       "0                      0      0.8494           0            0    19  \n",
       "1                      1      0.0959           0            1     4  \n",
       "2                      0      0.8400           0            1    15  \n",
       "3                      2      0.7935           0            1     0  \n",
       "4                      1      0.3819           1            1    23  "
      ]
     },
     "execution_count": 6,
     "metadata": {},
     "output_type": "execute_result"
    }
   ],
   "source": [
    "df.head()"
   ]
  },
  {
   "cell_type": "markdown",
   "id": "5d987faa",
   "metadata": {},
   "source": [
    "## Normalization"
   ]
  },
  {
   "cell_type": "code",
   "execution_count": 7,
   "id": "ae3e876d",
   "metadata": {},
   "outputs": [],
   "source": [
    "mx = MinMaxScaler()\n",
    "for col in df.columns:\n",
    "    df[col] = mx.fit_transform(df[[col]])"
   ]
  },
  {
   "cell_type": "code",
   "execution_count": 8,
   "id": "8759a3b1",
   "metadata": {},
   "outputs": [
    {
     "data": {
      "text/html": [
       "<div>\n",
       "<style scoped>\n",
       "    .dataframe tbody tr th:only-of-type {\n",
       "        vertical-align: middle;\n",
       "    }\n",
       "\n",
       "    .dataframe tbody tr th {\n",
       "        vertical-align: top;\n",
       "    }\n",
       "\n",
       "    .dataframe thead th {\n",
       "        text-align: right;\n",
       "    }\n",
       "</style>\n",
       "<table border=\"1\" class=\"dataframe\">\n",
       "  <thead>\n",
       "    <tr style=\"text-align: right;\">\n",
       "      <th></th>\n",
       "      <th>Transaction_Amount</th>\n",
       "      <th>Transaction_Type</th>\n",
       "      <th>Account_Balance</th>\n",
       "      <th>Device_Type</th>\n",
       "      <th>Location</th>\n",
       "      <th>Merchant_Category</th>\n",
       "      <th>IP_Address_Flag</th>\n",
       "      <th>Previous_Fraudulent_Activity</th>\n",
       "      <th>Daily_Transaction_Count</th>\n",
       "      <th>Avg_Transaction_Amount_7d</th>\n",
       "      <th>Failed_Transaction_Count_7d</th>\n",
       "      <th>Card_Type</th>\n",
       "      <th>Card_Age</th>\n",
       "      <th>Transaction_Distance</th>\n",
       "      <th>Authentication_Method</th>\n",
       "      <th>Risk_Score</th>\n",
       "      <th>Is_Weekend</th>\n",
       "      <th>Fraud_Label</th>\n",
       "      <th>Hour</th>\n",
       "    </tr>\n",
       "  </thead>\n",
       "  <tbody>\n",
       "    <tr>\n",
       "      <th>0</th>\n",
       "      <td>0.033889</td>\n",
       "      <td>0.000000</td>\n",
       "      <td>0.931806</td>\n",
       "      <td>0.0</td>\n",
       "      <td>0.00</td>\n",
       "      <td>0.00</td>\n",
       "      <td>0.0</td>\n",
       "      <td>0.0</td>\n",
       "      <td>0.461538</td>\n",
       "      <td>0.872714</td>\n",
       "      <td>0.75</td>\n",
       "      <td>0.000000</td>\n",
       "      <td>0.268908</td>\n",
       "      <td>0.176595</td>\n",
       "      <td>0.000000</td>\n",
       "      <td>0.849385</td>\n",
       "      <td>0.0</td>\n",
       "      <td>0.0</td>\n",
       "      <td>0.826087</td>\n",
       "    </tr>\n",
       "    <tr>\n",
       "      <th>1</th>\n",
       "      <td>0.001014</td>\n",
       "      <td>0.333333</td>\n",
       "      <td>0.756044</td>\n",
       "      <td>0.5</td>\n",
       "      <td>0.25</td>\n",
       "      <td>0.25</td>\n",
       "      <td>0.0</td>\n",
       "      <td>0.0</td>\n",
       "      <td>0.923077</td>\n",
       "      <td>0.956653</td>\n",
       "      <td>1.00</td>\n",
       "      <td>0.333333</td>\n",
       "      <td>0.777311</td>\n",
       "      <td>0.440650</td>\n",
       "      <td>0.333333</td>\n",
       "      <td>0.095810</td>\n",
       "      <td>0.0</td>\n",
       "      <td>1.0</td>\n",
       "      <td>0.173913</td>\n",
       "    </tr>\n",
       "    <tr>\n",
       "      <th>2</th>\n",
       "      <td>0.024665</td>\n",
       "      <td>0.666667</td>\n",
       "      <td>0.010940</td>\n",
       "      <td>1.0</td>\n",
       "      <td>0.50</td>\n",
       "      <td>0.50</td>\n",
       "      <td>0.0</td>\n",
       "      <td>0.0</td>\n",
       "      <td>1.000000</td>\n",
       "      <td>0.081653</td>\n",
       "      <td>1.00</td>\n",
       "      <td>0.666667</td>\n",
       "      <td>0.945378</td>\n",
       "      <td>0.381832</td>\n",
       "      <td>0.000000</td>\n",
       "      <td>0.839984</td>\n",
       "      <td>0.0</td>\n",
       "      <td>1.0</td>\n",
       "      <td>0.652174</td>\n",
       "    </tr>\n",
       "    <tr>\n",
       "      <th>3</th>\n",
       "      <td>0.216601</td>\n",
       "      <td>1.000000</td>\n",
       "      <td>0.766918</td>\n",
       "      <td>1.0</td>\n",
       "      <td>0.25</td>\n",
       "      <td>0.25</td>\n",
       "      <td>0.0</td>\n",
       "      <td>0.0</td>\n",
       "      <td>0.538462</td>\n",
       "      <td>0.352000</td>\n",
       "      <td>1.00</td>\n",
       "      <td>0.666667</td>\n",
       "      <td>0.315126</td>\n",
       "      <td>0.262339</td>\n",
       "      <td>0.666667</td>\n",
       "      <td>0.793479</td>\n",
       "      <td>0.0</td>\n",
       "      <td>1.0</td>\n",
       "      <td>0.000000</td>\n",
       "    </tr>\n",
       "    <tr>\n",
       "      <th>4</th>\n",
       "      <td>0.026641</td>\n",
       "      <td>0.000000</td>\n",
       "      <td>0.923178</td>\n",
       "      <td>0.5</td>\n",
       "      <td>0.50</td>\n",
       "      <td>0.75</td>\n",
       "      <td>0.0</td>\n",
       "      <td>1.0</td>\n",
       "      <td>1.000000</td>\n",
       "      <td>0.650388</td>\n",
       "      <td>1.00</td>\n",
       "      <td>0.333333</td>\n",
       "      <td>0.584034</td>\n",
       "      <td>0.193358</td>\n",
       "      <td>0.333333</td>\n",
       "      <td>0.381838</td>\n",
       "      <td>1.0</td>\n",
       "      <td>1.0</td>\n",
       "      <td>1.000000</td>\n",
       "    </tr>\n",
       "  </tbody>\n",
       "</table>\n",
       "</div>"
      ],
      "text/plain": [
       "   Transaction_Amount  Transaction_Type  Account_Balance  Device_Type  \\\n",
       "0            0.033889          0.000000         0.931806          0.0   \n",
       "1            0.001014          0.333333         0.756044          0.5   \n",
       "2            0.024665          0.666667         0.010940          1.0   \n",
       "3            0.216601          1.000000         0.766918          1.0   \n",
       "4            0.026641          0.000000         0.923178          0.5   \n",
       "\n",
       "   Location  Merchant_Category  IP_Address_Flag  Previous_Fraudulent_Activity  \\\n",
       "0      0.00               0.00              0.0                           0.0   \n",
       "1      0.25               0.25              0.0                           0.0   \n",
       "2      0.50               0.50              0.0                           0.0   \n",
       "3      0.25               0.25              0.0                           0.0   \n",
       "4      0.50               0.75              0.0                           1.0   \n",
       "\n",
       "   Daily_Transaction_Count  Avg_Transaction_Amount_7d  \\\n",
       "0                 0.461538                   0.872714   \n",
       "1                 0.923077                   0.956653   \n",
       "2                 1.000000                   0.081653   \n",
       "3                 0.538462                   0.352000   \n",
       "4                 1.000000                   0.650388   \n",
       "\n",
       "   Failed_Transaction_Count_7d  Card_Type  Card_Age  Transaction_Distance  \\\n",
       "0                         0.75   0.000000  0.268908              0.176595   \n",
       "1                         1.00   0.333333  0.777311              0.440650   \n",
       "2                         1.00   0.666667  0.945378              0.381832   \n",
       "3                         1.00   0.666667  0.315126              0.262339   \n",
       "4                         1.00   0.333333  0.584034              0.193358   \n",
       "\n",
       "   Authentication_Method  Risk_Score  Is_Weekend  Fraud_Label      Hour  \n",
       "0               0.000000    0.849385         0.0          0.0  0.826087  \n",
       "1               0.333333    0.095810         0.0          1.0  0.173913  \n",
       "2               0.000000    0.839984         0.0          1.0  0.652174  \n",
       "3               0.666667    0.793479         0.0          1.0  0.000000  \n",
       "4               0.333333    0.381838         1.0          1.0  1.000000  "
      ]
     },
     "execution_count": 8,
     "metadata": {},
     "output_type": "execute_result"
    }
   ],
   "source": [
    "df.head()"
   ]
  },
  {
   "cell_type": "markdown",
   "id": "3f419df0",
   "metadata": {},
   "source": [
    "## Data Splitting"
   ]
  },
  {
   "cell_type": "code",
   "execution_count": null,
   "id": "53e18951",
   "metadata": {},
   "outputs": [
    {
     "ename": "NameError",
     "evalue": "name 'df_norm' is not defined",
     "output_type": "error",
     "traceback": [
      "\u001b[1;31m---------------------------------------------------------------------------\u001b[0m",
      "\u001b[1;31mNameError\u001b[0m                                 Traceback (most recent call last)",
      "Cell \u001b[1;32mIn[9], line 1\u001b[0m\n\u001b[1;32m----> 1\u001b[0m X_norm \u001b[38;5;241m=\u001b[39m df_norm\u001b[38;5;241m.\u001b[39mdrop(columns\u001b[38;5;241m=\u001b[39m[\u001b[38;5;124m\"\u001b[39m\u001b[38;5;124mFraud_Label\u001b[39m\u001b[38;5;124m\"\u001b[39m])\n\u001b[0;32m      2\u001b[0m y \u001b[38;5;241m=\u001b[39m df_norm[\u001b[38;5;124m\"\u001b[39m\u001b[38;5;124mFraud_Label\u001b[39m\u001b[38;5;124m\"\u001b[39m]\n",
      "\u001b[1;31mNameError\u001b[0m: name 'df_norm' is not defined"
     ]
    }
   ],
   "source": [
    "X = df.drop(columns=[\"Fraud_Label\"])\n",
    "y = df[\"Fraud_Label\"]"
   ]
  },
  {
   "cell_type": "code",
   "execution_count": null,
   "id": "36f645d8",
   "metadata": {},
   "outputs": [],
   "source": [
    "X_train, X_test, y_train, y_test = train_test_split(X, y, test_size=0.2, random_state=42, shuffle=True, stratify=y)"
   ]
  },
  {
   "cell_type": "markdown",
   "id": "4d69b273",
   "metadata": {},
   "source": [
    "# Model Training"
   ]
  },
  {
   "cell_type": "markdown",
   "id": "597e9ae1",
   "metadata": {},
   "source": [
    "## SVM Model"
   ]
  },
  {
   "cell_type": "code",
   "execution_count": null,
   "id": "3e926617",
   "metadata": {},
   "outputs": [],
   "source": [
    "model_svm = SVC(kernel='poly', degree=4, C=4.0)"
   ]
  },
  {
   "cell_type": "code",
   "execution_count": null,
   "id": "62e5e3db",
   "metadata": {},
   "outputs": [],
   "source": [
    "model_svm.fit(X_train, y_train)\n",
    "y_pred = model_svm.predict(X_test)"
   ]
  },
  {
   "cell_type": "code",
   "execution_count": null,
   "id": "f06212cb",
   "metadata": {},
   "outputs": [
    {
     "name": "stdout",
     "output_type": "stream",
     "text": [
      "Accuracy: 67.8700%\n"
     ]
    }
   ],
   "source": [
    "accuracy = accuracy_score(y_test, y_pred)\n",
    "print(\"Accuracy: %.4f%%\" % (accuracy * 100.0))"
   ]
  },
  {
   "cell_type": "markdown",
   "id": "abc28929",
   "metadata": {},
   "source": [
    "## Logistic Regression Model"
   ]
  },
  {
   "cell_type": "code",
   "execution_count": null,
   "id": "057ccecb",
   "metadata": {},
   "outputs": [],
   "source": [
    "model_logistic = LogisticRegression(max_iter=1000, solver='liblinear', penalty='l2', C=1.0)"
   ]
  },
  {
   "cell_type": "code",
   "execution_count": null,
   "id": "2416fd43",
   "metadata": {},
   "outputs": [],
   "source": [
    "model_logistic.fit(X_train, y_train)\n",
    "y_pred = model_logistic.predict(X_test)"
   ]
  },
  {
   "cell_type": "code",
   "execution_count": null,
   "id": "5ab23e51",
   "metadata": {},
   "outputs": [
    {
     "name": "stdout",
     "output_type": "stream",
     "text": [
      "Accuracy: 67.0600%\n"
     ]
    }
   ],
   "source": [
    "accuracy = accuracy_score(y_test, y_pred)\n",
    "print(\"Accuracy: %.4f%%\" % (accuracy * 100.0))"
   ]
  },
  {
   "cell_type": "markdown",
   "id": "38959e42",
   "metadata": {},
   "source": [
    "## Decision Tree Model"
   ]
  },
  {
   "cell_type": "code",
   "execution_count": null,
   "id": "6ad4e268",
   "metadata": {},
   "outputs": [],
   "source": [
    "model_random_forest = DecisionTreeClassifier(max_depth=20, random_state=42, criterion='entropy', splitter='best')"
   ]
  },
  {
   "cell_type": "code",
   "execution_count": null,
   "id": "03ce148c",
   "metadata": {},
   "outputs": [],
   "source": [
    "model_random_forest.fit(X_train, y_train)\n",
    "y_pred = model_random_forest.predict(X_test)"
   ]
  },
  {
   "cell_type": "code",
   "execution_count": null,
   "id": "62e4c533",
   "metadata": {},
   "outputs": [
    {
     "name": "stdout",
     "output_type": "stream",
     "text": [
      "Accuracy: 100.0000%\n"
     ]
    }
   ],
   "source": [
    "accuracy = accuracy_score(y_test, y_pred)\n",
    "print(\"Accuracy: %.4f%%\" % (accuracy * 100.0))"
   ]
  },
  {
   "cell_type": "code",
   "execution_count": null,
   "id": "1f7cd357",
   "metadata": {},
   "outputs": [
    {
     "data": {
      "text/plain": [
       "[Text(0.6, 0.8333333333333334, 'Failed_Transaction_Count_7d <= 3.5\\nentropy = 0.906\\nsamples = 40000\\nvalue = [27146, 12854]\\nclass = Not Fraud'),\n",
       " Text(0.4, 0.5, 'Risk_Score <= 0.85\\nentropy = 0.616\\nsamples = 32031\\nvalue = [27146, 4885]\\nclass = Not Fraud'),\n",
       " Text(0.2, 0.16666666666666666, 'entropy = 0.0\\nsamples = 27146\\nvalue = [27146, 0]\\nclass = Not Fraud'),\n",
       " Text(0.6, 0.16666666666666666, 'entropy = 0.0\\nsamples = 4885\\nvalue = [0, 4885]\\nclass = Fraud'),\n",
       " Text(0.8, 0.5, 'entropy = 0.0\\nsamples = 7969\\nvalue = [0, 7969]\\nclass = Fraud')]"
      ]
     },
     "execution_count": 20,
     "metadata": {},
     "output_type": "execute_result"
    },
    {
     "data": {
      "image/png": "[encoded data removed]",
      "text/plain": [
       "<Figure size 640x480 with 1 Axes>"
      ]
     },
     "metadata": {},
     "output_type": "display_data"
    }
   ],
   "source": [
    "plot_tree(model_random_forest, filled=True, feature_names=X.columns, class_names=[\"Not Fraud\", \"Fraud\"], rounded=True)"
   ]
  },
  {
   "cell_type": "code",
   "execution_count": null,
   "id": "3a2e9ca4",
   "metadata": {},
   "outputs": [],
   "source": []
  }
 ],
 "metadata": {
  "kernelspec": {
   "display_name": "base",
   "language": "python",
   "name": "python3"
  },
  "language_info": {
   "codemirror_mode": {
    "name": "ipython",
    "version": 3
   },
   "file_extension": ".py",
   "mimetype": "text/x-python",
   "name": "python",
   "nbconvert_exporter": "python",
   "pygments_lexer": "ipython3",
   "version": "3.11.7"
  }
 },
 "nbformat": 4,
 "nbformat_minor": 5
}
